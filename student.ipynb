{
 "cells": [
  {
   "cell_type": "markdown",
   "metadata": {},
   "source": [
    "## Final Project Submission\n",
    "\n",
    "Please fill out:\n",
    "* Student name: **WARUCHU KURIA**\n",
    "* Student pace: self paced / part time / full time - **PART TIME**\n",
    "* Scheduled project review date/time: **16/04/2023**\n",
    "* Instructor name: **DIANA MONGINA / NOAH KANDIE**\n",
    "* Blog post URL:"
   ]
  },
  {
   "cell_type": "markdown",
   "metadata": {},
   "source": [
    "![img](images/cinema-popcorn-ticket-movie-theatre-png-27.png)"
   ]
  },
  {
   "cell_type": "markdown",
   "metadata": {},
   "source": [
    "# MICROSOFT MOVIES - CAN IT HAPPEN?"
   ]
  },
  {
   "cell_type": "markdown",
   "metadata": {},
   "source": [
    "Microsoft wants to start creating original video content. The purpose of this exploring various public movie datasets that contain information on films in the box office. This will then be used to provide insight on the viability of the project for Microsoft, i.e. what the company should consider before embarking on the project.\n",
    "The datasets used in this analysis are:\n",
    "1. [Box Office Mojo](https://www.boxofficemojo.com/)\n",
    "2. [TheMovieDB](https://www.themoviedb.org/)\n",
    "3. [IMDb](https://www.imdb.com/)"
   ]
  },
  {
   "cell_type": "markdown",
   "metadata": {},
   "source": [
    "# Business Problem\n",
    "The issues to be looked into are:\n",
    "1. What are the top grossing movies? The details will guide Microsoft on movie types to emulate.\n",
    "2. What is the performance of movies by genre - number of movies, gross income, ratings? This will inform on the genres worth investing in.\n",
    "3. How useful is the performance of a studio in terms of gross income? Microsoft may look into engaging the studios/directors for the content creation."
   ]
  },
  {
   "cell_type": "markdown",
   "metadata": {},
   "source": [
    "# Data Understanding"
   ]
  },
  {
   "cell_type": "markdown",
   "metadata": {},
   "source": [
    "### [1. Box Office Mojo Dataset](https://www.boxofficemojo.com/)\n",
    "\n",
    "- This dataset is a CSV file that has information on how much gross income the movies earned in the domestic and foreign markets.\n",
    "- The data is significant to determine the investment returns per movie over the years."
   ]
  },
  {
   "cell_type": "markdown",
   "metadata": {},
   "source": [
    "### [2. The Movie Database Dataset](https://www.themoviedb.org/)\n",
    "- Information at a glance is the movie title, genre (ID), language, release date and votes received for each movie. \n",
    "- This dataset would be good to gauge the performance of films in the box office, hence, deciding on, for instance, the most popular genres."
   ]
  },
  {
   "cell_type": "markdown",
   "metadata": {},
   "source": [
    "### [3. The IMDb Dataset](https://www.imdb.com/)\n",
    "- This dataset has several CSV files.\n",
    "- The files of interest will be imdb.title.basics.csv.gz (genre information and reviews) and imdb.title.ratings.csv.gz"
   ]
  },
  {
   "cell_type": "markdown",
   "metadata": {},
   "source": [
    "## Importing necesssary modules\n",
    "- Creating an alias for the modules."
   ]
  },
  {
   "cell_type": "code",
   "execution_count": 1,
   "metadata": {},
   "outputs": [],
   "source": [
    "import pandas as pd\n",
    "import numpy as np\n",
    "import matplotlib.pyplot as plt\n",
    "%matplotlib inline\n",
    "\n",
    "import seaborn as sns\n",
    "import sqlite3"
   ]
  },
  {
   "cell_type": "markdown",
   "metadata": {},
   "source": [
    "## Preparing the Data\n",
    "- The next step is adding the datasets and explore them in order to decide on the information to use for the analysis.\n",
    "- The files are added using the `pd.read` function relevant to the file type. \n",
    "- A dataframe is created to hold the dataset and make the information readable by Pandas."
   ]
  },
  {
   "cell_type": "markdown",
   "metadata": {},
   "source": [
    "### Box Office Mojo Dataset"
   ]
  },
  {
   "cell_type": "code",
   "execution_count": 2,
   "metadata": {},
   "outputs": [
    {
     "data": {
      "text/html": [
       "<div>\n",
       "<style scoped>\n",
       "    .dataframe tbody tr th:only-of-type {\n",
       "        vertical-align: middle;\n",
       "    }\n",
       "\n",
       "    .dataframe tbody tr th {\n",
       "        vertical-align: top;\n",
       "    }\n",
       "\n",
       "    .dataframe thead th {\n",
       "        text-align: right;\n",
       "    }\n",
       "</style>\n",
       "<table border=\"1\" class=\"dataframe\">\n",
       "  <thead>\n",
       "    <tr style=\"text-align: right;\">\n",
       "      <th></th>\n",
       "      <th>title</th>\n",
       "      <th>studio</th>\n",
       "      <th>domestic_gross</th>\n",
       "      <th>foreign_gross</th>\n",
       "      <th>year</th>\n",
       "    </tr>\n",
       "  </thead>\n",
       "  <tbody>\n",
       "    <tr>\n",
       "      <th>0</th>\n",
       "      <td>Toy Story 3</td>\n",
       "      <td>BV</td>\n",
       "      <td>415000000.0</td>\n",
       "      <td>652000000</td>\n",
       "      <td>2010</td>\n",
       "    </tr>\n",
       "    <tr>\n",
       "      <th>1</th>\n",
       "      <td>Alice in Wonderland (2010)</td>\n",
       "      <td>BV</td>\n",
       "      <td>334200000.0</td>\n",
       "      <td>691300000</td>\n",
       "      <td>2010</td>\n",
       "    </tr>\n",
       "    <tr>\n",
       "      <th>2</th>\n",
       "      <td>Harry Potter and the Deathly Hallows Part 1</td>\n",
       "      <td>WB</td>\n",
       "      <td>296000000.0</td>\n",
       "      <td>664300000</td>\n",
       "      <td>2010</td>\n",
       "    </tr>\n",
       "    <tr>\n",
       "      <th>3</th>\n",
       "      <td>Inception</td>\n",
       "      <td>WB</td>\n",
       "      <td>292600000.0</td>\n",
       "      <td>535700000</td>\n",
       "      <td>2010</td>\n",
       "    </tr>\n",
       "    <tr>\n",
       "      <th>4</th>\n",
       "      <td>Shrek Forever After</td>\n",
       "      <td>P/DW</td>\n",
       "      <td>238700000.0</td>\n",
       "      <td>513900000</td>\n",
       "      <td>2010</td>\n",
       "    </tr>\n",
       "  </tbody>\n",
       "</table>\n",
       "</div>"
      ],
      "text/plain": [
       "                                         title studio  domestic_gross  \\\n",
       "0                                  Toy Story 3     BV     415000000.0   \n",
       "1                   Alice in Wonderland (2010)     BV     334200000.0   \n",
       "2  Harry Potter and the Deathly Hallows Part 1     WB     296000000.0   \n",
       "3                                    Inception     WB     292600000.0   \n",
       "4                          Shrek Forever After   P/DW     238700000.0   \n",
       "\n",
       "  foreign_gross  year  \n",
       "0     652000000  2010  \n",
       "1     691300000  2010  \n",
       "2     664300000  2010  \n",
       "3     535700000  2010  \n",
       "4     513900000  2010  "
      ]
     },
     "execution_count": 2,
     "metadata": {},
     "output_type": "execute_result"
    }
   ],
   "source": [
    "mojo_df = pd.read_csv(\"zippedData/bom.movie_gross.csv.gz\")\n",
    "mojo_df.head()"
   ]
  },
  {
   "cell_type": "code",
   "execution_count": 3,
   "metadata": {},
   "outputs": [
    {
     "name": "stdout",
     "output_type": "stream",
     "text": [
      "<class 'pandas.core.frame.DataFrame'>\n",
      "RangeIndex: 3387 entries, 0 to 3386\n",
      "Data columns (total 5 columns):\n",
      " #   Column          Non-Null Count  Dtype  \n",
      "---  ------          --------------  -----  \n",
      " 0   title           3387 non-null   object \n",
      " 1   studio          3382 non-null   object \n",
      " 2   domestic_gross  3359 non-null   float64\n",
      " 3   foreign_gross   2037 non-null   object \n",
      " 4   year            3387 non-null   int64  \n",
      "dtypes: float64(1), int64(1), object(3)\n",
      "memory usage: 132.4+ KB\n"
     ]
    }
   ],
   "source": [
    "# displaying a summary of the datafarame created\n",
    "# showing the datatypes, number of columns and rows, null values\n",
    "\n",
    "mojo_df.info()"
   ]
  },
  {
   "cell_type": "markdown",
   "metadata": {},
   "source": [
    "- `title` is the name of the movie.\n",
    "- `studio` - the production house.\n",
    "- `foreign_gross` and `domestic_gross` - income in home market and international market.\n",
    "- `year` - the year the movie was released.\n",
    "- There are missing values in the ``studio``, ``domestic_gross`` and ``foreign_gross`` columns. \n",
    "- ``foreign_gross`` is a `str`, should be `int`."
   ]
  },
  {
   "cell_type": "markdown",
   "metadata": {},
   "source": [
    "#### a. Dealing with Missing Data"
   ]
  },
  {
   "cell_type": "code",
   "execution_count": 4,
   "metadata": {},
   "outputs": [
    {
     "data": {
      "text/plain": [
       "title                0\n",
       "studio               5\n",
       "domestic_gross      28\n",
       "foreign_gross     1350\n",
       "year                 0\n",
       "dtype: int64"
      ]
     },
     "execution_count": 4,
     "metadata": {},
     "output_type": "execute_result"
    }
   ],
   "source": [
    "# counting the missing data\n",
    "\n",
    "mojo_df.isnull().sum()"
   ]
  },
  {
   "cell_type": "markdown",
   "metadata": {},
   "source": [
    "- ``foreign_gross`` has the largest number of null values. However, this column is important due to its financial aspect that is a basis for this analysis. The same applies to `domestic_gross` column.\n",
    "- The `studio` column has few missing data. The affected rows can be removed since their effect will be insignificant to the overall data. The column will be retained as it may come in handy as the analysis progresses."
   ]
  },
  {
   "cell_type": "markdown",
   "metadata": {},
   "source": [
    "**`studio` Column - drop rows**"
   ]
  },
  {
   "cell_type": "code",
   "execution_count": 5,
   "metadata": {},
   "outputs": [
    {
     "data": {
      "text/plain": [
       "0.14762326542663123"
      ]
     },
     "execution_count": 5,
     "metadata": {},
     "output_type": "execute_result"
    }
   ],
   "source": [
    "# checking weight in percentage of the missing data in studio column\n",
    "mojo_df[\"studio\"].isnull().mean() * 100"
   ]
  },
  {
   "cell_type": "code",
   "execution_count": 6,
   "metadata": {},
   "outputs": [
    {
     "data": {
      "text/plain": [
       "0"
      ]
     },
     "execution_count": 6,
     "metadata": {},
     "output_type": "execute_result"
    }
   ],
   "source": [
    "# dropping rows with missing values from the `studio` column\n",
    "\n",
    "mojo_df.dropna(subset=[\"studio\"], axis=0, inplace=True)\n",
    "mojo_df[\"studio\"].isnull().sum()"
   ]
  },
  {
   "cell_type": "markdown",
   "metadata": {},
   "source": [
    "**`foreign_gross` Column - replace missing values with 0 to show no foreign income**"
   ]
  },
  {
   "cell_type": "code",
   "execution_count": 7,
   "metadata": {},
   "outputs": [
    {
     "data": {
      "text/plain": [
       "3367    NaN\n",
       "3368    NaN\n",
       "3369    NaN\n",
       "3370    NaN\n",
       "3371    NaN\n",
       "3372    NaN\n",
       "3373    NaN\n",
       "3374    NaN\n",
       "3375    NaN\n",
       "3376    NaN\n",
       "3377    NaN\n",
       "3378    NaN\n",
       "3379    NaN\n",
       "3380    NaN\n",
       "3381    NaN\n",
       "3382    NaN\n",
       "3383    NaN\n",
       "3384    NaN\n",
       "3385    NaN\n",
       "3386    NaN\n",
       "Name: foreign_gross, dtype: object"
      ]
     },
     "execution_count": 7,
     "metadata": {},
     "output_type": "execute_result"
    }
   ],
   "source": [
    "mojo_df[\"foreign_gross\"].tail(20)"
   ]
  },
  {
   "cell_type": "code",
   "execution_count": 8,
   "metadata": {},
   "outputs": [
    {
     "data": {
      "text/plain": [
       "3367    0\n",
       "3368    0\n",
       "3369    0\n",
       "3370    0\n",
       "3371    0\n",
       "3372    0\n",
       "3373    0\n",
       "3374    0\n",
       "3375    0\n",
       "3376    0\n",
       "3377    0\n",
       "3378    0\n",
       "3379    0\n",
       "3380    0\n",
       "3381    0\n",
       "3382    0\n",
       "3383    0\n",
       "3384    0\n",
       "3385    0\n",
       "3386    0\n",
       "Name: foreign_gross, dtype: object"
      ]
     },
     "execution_count": 8,
     "metadata": {},
     "output_type": "execute_result"
    }
   ],
   "source": [
    "mojo_df[\"foreign_gross\"].fillna(0, inplace=True)\n",
    "mojo_df[\"foreign_gross\"].tail(20)"
   ]
  },
  {
   "cell_type": "markdown",
   "metadata": {},
   "source": [
    "**`domestic_gross` Column - replace missing values with 0 to show no foreign income**"
   ]
  },
  {
   "cell_type": "code",
   "execution_count": 9,
   "metadata": {
    "scrolled": true
   },
   "outputs": [
    {
     "data": {
      "text/plain": [
       "928          0.0\n",
       "929    2600000.0\n",
       "930    4300000.0\n",
       "931    1000000.0\n",
       "932    4099999.0\n",
       "934    4000000.0\n",
       "935    3400000.0\n",
       "936          0.0\n",
       "937     355000.0\n",
       "938     354000.0\n",
       "939      23400.0\n",
       "940    3700000.0\n",
       "941    2000000.0\n",
       "942      75700.0\n",
       "943    3300000.0\n",
       "944    3100000.0\n",
       "945    3100000.0\n",
       "946    3000000.0\n",
       "947      69100.0\n",
       "948    2900000.0\n",
       "949    2800000.0\n",
       "950     192000.0\n",
       "951    2700000.0\n",
       "952     151000.0\n",
       "953    2600000.0\n",
       "954    2500000.0\n",
       "955    1500000.0\n",
       "956    2400000.0\n",
       "957    2300000.0\n",
       "958     351000.0\n",
       "959     304000.0\n",
       "960    2000000.0\n",
       "961     898000.0\n",
       "962    2000000.0\n",
       "963       3500.0\n",
       "964    1900000.0\n",
       "965    1800000.0\n",
       "966          0.0\n",
       "967      11000.0\n",
       "968     138000.0\n",
       "Name: domestic_gross, dtype: float64"
      ]
     },
     "execution_count": 9,
     "metadata": {},
     "output_type": "execute_result"
    }
   ],
   "source": [
    "mojo_df[\"domestic_gross\"].fillna(0, inplace=True)\n",
    "mojo_df[\"domestic_gross\"].iloc[926:966]"
   ]
  },
  {
   "cell_type": "code",
   "execution_count": 10,
   "metadata": {},
   "outputs": [
    {
     "data": {
      "text/plain": [
       "title             0\n",
       "studio            0\n",
       "domestic_gross    0\n",
       "foreign_gross     0\n",
       "year              0\n",
       "dtype: int64"
      ]
     },
     "execution_count": 10,
     "metadata": {},
     "output_type": "execute_result"
    }
   ],
   "source": [
    "mojo_df.isnull().sum()"
   ]
  },
  {
   "cell_type": "markdown",
   "metadata": {},
   "source": [
    "#### b. Changing dtype of `foreign_gross` column\n",
    "- This is to enable calculation of income."
   ]
  },
  {
   "cell_type": "code",
   "execution_count": 11,
   "metadata": {},
   "outputs": [
    {
     "name": "stdout",
     "output_type": "stream",
     "text": [
      "<class 'pandas.core.frame.DataFrame'>\n",
      "Int64Index: 3382 entries, 0 to 3386\n",
      "Data columns (total 5 columns):\n",
      " #   Column          Non-Null Count  Dtype  \n",
      "---  ------          --------------  -----  \n",
      " 0   title           3382 non-null   object \n",
      " 1   studio          3382 non-null   object \n",
      " 2   domestic_gross  3382 non-null   float64\n",
      " 3   foreign_gross   3377 non-null   float64\n",
      " 4   year            3382 non-null   int64  \n",
      "dtypes: float64(2), int64(1), object(2)\n",
      "memory usage: 158.5+ KB\n"
     ]
    }
   ],
   "source": [
    "mojo_df[\"foreign_gross\"] = pd.to_numeric(mojo_df[\"foreign_gross\"], errors=\"coerce\")\n",
    "mojo_df.info()"
   ]
  },
  {
   "cell_type": "markdown",
   "metadata": {},
   "source": [
    "The change affected the `foreign_gross` column by creating NaN values."
   ]
  },
  {
   "cell_type": "code",
   "execution_count": 12,
   "metadata": {},
   "outputs": [
    {
     "data": {
      "text/html": [
       "<div>\n",
       "<style scoped>\n",
       "    .dataframe tbody tr th:only-of-type {\n",
       "        vertical-align: middle;\n",
       "    }\n",
       "\n",
       "    .dataframe tbody tr th {\n",
       "        vertical-align: top;\n",
       "    }\n",
       "\n",
       "    .dataframe thead th {\n",
       "        text-align: right;\n",
       "    }\n",
       "</style>\n",
       "<table border=\"1\" class=\"dataframe\">\n",
       "  <thead>\n",
       "    <tr style=\"text-align: right;\">\n",
       "      <th></th>\n",
       "      <th>title</th>\n",
       "      <th>studio</th>\n",
       "      <th>domestic_gross</th>\n",
       "      <th>foreign_gross</th>\n",
       "      <th>year</th>\n",
       "    </tr>\n",
       "  </thead>\n",
       "  <tbody>\n",
       "    <tr>\n",
       "      <th>1872</th>\n",
       "      <td>Star Wars: The Force Awakens</td>\n",
       "      <td>BV</td>\n",
       "      <td>936700000.0</td>\n",
       "      <td>NaN</td>\n",
       "      <td>2015</td>\n",
       "    </tr>\n",
       "    <tr>\n",
       "      <th>1873</th>\n",
       "      <td>Jurassic World</td>\n",
       "      <td>Uni.</td>\n",
       "      <td>652300000.0</td>\n",
       "      <td>NaN</td>\n",
       "      <td>2015</td>\n",
       "    </tr>\n",
       "    <tr>\n",
       "      <th>1874</th>\n",
       "      <td>Furious 7</td>\n",
       "      <td>Uni.</td>\n",
       "      <td>353000000.0</td>\n",
       "      <td>NaN</td>\n",
       "      <td>2015</td>\n",
       "    </tr>\n",
       "    <tr>\n",
       "      <th>2760</th>\n",
       "      <td>The Fate of the Furious</td>\n",
       "      <td>Uni.</td>\n",
       "      <td>226000000.0</td>\n",
       "      <td>NaN</td>\n",
       "      <td>2017</td>\n",
       "    </tr>\n",
       "    <tr>\n",
       "      <th>3079</th>\n",
       "      <td>Avengers: Infinity War</td>\n",
       "      <td>BV</td>\n",
       "      <td>678800000.0</td>\n",
       "      <td>NaN</td>\n",
       "      <td>2018</td>\n",
       "    </tr>\n",
       "  </tbody>\n",
       "</table>\n",
       "</div>"
      ],
      "text/plain": [
       "                             title studio  domestic_gross  foreign_gross  year\n",
       "1872  Star Wars: The Force Awakens     BV     936700000.0            NaN  2015\n",
       "1873                Jurassic World   Uni.     652300000.0            NaN  2015\n",
       "1874                     Furious 7   Uni.     353000000.0            NaN  2015\n",
       "2760       The Fate of the Furious   Uni.     226000000.0            NaN  2017\n",
       "3079        Avengers: Infinity War     BV     678800000.0            NaN  2018"
      ]
     },
     "execution_count": 12,
     "metadata": {},
     "output_type": "execute_result"
    }
   ],
   "source": [
    "# displaying the affected rows\n",
    "\n",
    "fg_missing = mojo_df[mojo_df[\"foreign_gross\"].isna()]\n",
    "fg_missing"
   ]
  },
  {
   "cell_type": "markdown",
   "metadata": {},
   "source": [
    "These are movies that showed in many countries globally and will definitely have some foreign income. The 5 rows cannot be dropped.\n",
    "The current figures as per the dataset's website [Box Office Mojo](https://www.boxofficemojo.com/) are as follows:\n",
    "\n",
    "|**Movie Name**|**Foreign Gross**|\n",
    "|---|---|\n",
    "|Star Wars: The Force Awakens|1,134,647,993|\n",
    "|Jurassic World|1,018,130,819|\n",
    "|Furious 7|1,162,334,379|\n",
    "|The Fate of the Furious|1,009,996,733|\n",
    "|Avengers: Infinity War|1,373,599,557|\n",
    "\n",
    "The code below will replace the missing values with the correct figures."
   ]
  },
  {
   "cell_type": "code",
   "execution_count": 13,
   "metadata": {},
   "outputs": [],
   "source": [
    "# creating the new figures to replace NaN\n",
    "fg_missing_dict = {\"Star Wars: The Force Awakens\": 1134647993,\n",
    "                   \"Jurassic World\": 1018130819, \n",
    "                   \"Furious 7\": 1162334379, \n",
    "                   \"The Fate of the Furious\": 1009996733, \n",
    "                   \"Avengers: Infinity War\": 1373599557}"
   ]
  },
  {
   "cell_type": "code",
   "execution_count": 14,
   "metadata": {},
   "outputs": [],
   "source": [
    "# use a for loop to update the values\n",
    "# it assigns the key to the title and the value to the figure\n",
    "# locate the key and value in the DataFrame\n",
    "for index, (key, value) in enumerate(fg_missing_dict.items()):\n",
    "     mojo_df.loc[mojo_df.title == key, 'foreign_gross'] = value"
   ]
  },
  {
   "cell_type": "code",
   "execution_count": 15,
   "metadata": {},
   "outputs": [
    {
     "data": {
      "text/html": [
       "<div>\n",
       "<style scoped>\n",
       "    .dataframe tbody tr th:only-of-type {\n",
       "        vertical-align: middle;\n",
       "    }\n",
       "\n",
       "    .dataframe tbody tr th {\n",
       "        vertical-align: top;\n",
       "    }\n",
       "\n",
       "    .dataframe thead th {\n",
       "        text-align: right;\n",
       "    }\n",
       "</style>\n",
       "<table border=\"1\" class=\"dataframe\">\n",
       "  <thead>\n",
       "    <tr style=\"text-align: right;\">\n",
       "      <th></th>\n",
       "      <th>title</th>\n",
       "      <th>studio</th>\n",
       "      <th>domestic_gross</th>\n",
       "      <th>foreign_gross</th>\n",
       "      <th>year</th>\n",
       "    </tr>\n",
       "  </thead>\n",
       "  <tbody>\n",
       "    <tr>\n",
       "      <th>1874</th>\n",
       "      <td>Furious 7</td>\n",
       "      <td>Uni.</td>\n",
       "      <td>353000000.0</td>\n",
       "      <td>1.162334e+09</td>\n",
       "      <td>2015</td>\n",
       "    </tr>\n",
       "  </tbody>\n",
       "</table>\n",
       "</div>"
      ],
      "text/plain": [
       "          title studio  domestic_gross  foreign_gross  year\n",
       "1874  Furious 7   Uni.     353000000.0   1.162334e+09  2015"
      ]
     },
     "execution_count": 15,
     "metadata": {},
     "output_type": "execute_result"
    }
   ],
   "source": [
    "# testing the changes\n",
    "mojo_df[mojo_df['title'] == \"Furious 7\"]"
   ]
  },
  {
   "cell_type": "code",
   "execution_count": 16,
   "metadata": {},
   "outputs": [
    {
     "name": "stdout",
     "output_type": "stream",
     "text": [
      "<class 'pandas.core.frame.DataFrame'>\n",
      "Int64Index: 3382 entries, 0 to 3386\n",
      "Data columns (total 5 columns):\n",
      " #   Column          Non-Null Count  Dtype  \n",
      "---  ------          --------------  -----  \n",
      " 0   title           3382 non-null   object \n",
      " 1   studio          3382 non-null   object \n",
      " 2   domestic_gross  3382 non-null   float64\n",
      " 3   foreign_gross   3382 non-null   float64\n",
      " 4   year            3382 non-null   int64  \n",
      "dtypes: float64(2), int64(1), object(2)\n",
      "memory usage: 158.5+ KB\n"
     ]
    }
   ],
   "source": [
    "mojo_df.info()"
   ]
  },
  {
   "cell_type": "code",
   "execution_count": 17,
   "metadata": {},
   "outputs": [
    {
     "data": {
      "text/html": [
       "<div>\n",
       "<style scoped>\n",
       "    .dataframe tbody tr th:only-of-type {\n",
       "        vertical-align: middle;\n",
       "    }\n",
       "\n",
       "    .dataframe tbody tr th {\n",
       "        vertical-align: top;\n",
       "    }\n",
       "\n",
       "    .dataframe thead th {\n",
       "        text-align: right;\n",
       "    }\n",
       "</style>\n",
       "<table border=\"1\" class=\"dataframe\">\n",
       "  <thead>\n",
       "    <tr style=\"text-align: right;\">\n",
       "      <th></th>\n",
       "      <th>title</th>\n",
       "      <th>studio</th>\n",
       "      <th>domestic_gross</th>\n",
       "      <th>foreign_gross</th>\n",
       "      <th>year</th>\n",
       "    </tr>\n",
       "  </thead>\n",
       "  <tbody>\n",
       "    <tr>\n",
       "      <th>1872</th>\n",
       "      <td>Star Wars: The Force Awakens</td>\n",
       "      <td>BV</td>\n",
       "      <td>936700000.0</td>\n",
       "      <td>1.134648e+09</td>\n",
       "      <td>2015</td>\n",
       "    </tr>\n",
       "    <tr>\n",
       "      <th>1873</th>\n",
       "      <td>Jurassic World</td>\n",
       "      <td>Uni.</td>\n",
       "      <td>652300000.0</td>\n",
       "      <td>1.018131e+09</td>\n",
       "      <td>2015</td>\n",
       "    </tr>\n",
       "    <tr>\n",
       "      <th>1874</th>\n",
       "      <td>Furious 7</td>\n",
       "      <td>Uni.</td>\n",
       "      <td>353000000.0</td>\n",
       "      <td>1.162334e+09</td>\n",
       "      <td>2015</td>\n",
       "    </tr>\n",
       "    <tr>\n",
       "      <th>1875</th>\n",
       "      <td>Avengers: Age of Ultron</td>\n",
       "      <td>BV</td>\n",
       "      <td>459000000.0</td>\n",
       "      <td>9.464000e+08</td>\n",
       "      <td>2015</td>\n",
       "    </tr>\n",
       "    <tr>\n",
       "      <th>1876</th>\n",
       "      <td>Minions</td>\n",
       "      <td>Uni.</td>\n",
       "      <td>336000000.0</td>\n",
       "      <td>8.234000e+08</td>\n",
       "      <td>2015</td>\n",
       "    </tr>\n",
       "  </tbody>\n",
       "</table>\n",
       "</div>"
      ],
      "text/plain": [
       "                             title studio  domestic_gross  foreign_gross  year\n",
       "1872  Star Wars: The Force Awakens     BV     936700000.0   1.134648e+09  2015\n",
       "1873                Jurassic World   Uni.     652300000.0   1.018131e+09  2015\n",
       "1874                     Furious 7   Uni.     353000000.0   1.162334e+09  2015\n",
       "1875       Avengers: Age of Ultron     BV     459000000.0   9.464000e+08  2015\n",
       "1876                       Minions   Uni.     336000000.0   8.234000e+08  2015"
      ]
     },
     "execution_count": 17,
     "metadata": {},
     "output_type": "execute_result"
    }
   ],
   "source": [
    "mojo_df.iloc[1868:1873]"
   ]
  },
  {
   "cell_type": "code",
   "execution_count": 18,
   "metadata": {},
   "outputs": [
    {
     "data": {
      "text/html": [
       "<div>\n",
       "<style scoped>\n",
       "    .dataframe tbody tr th:only-of-type {\n",
       "        vertical-align: middle;\n",
       "    }\n",
       "\n",
       "    .dataframe tbody tr th {\n",
       "        vertical-align: top;\n",
       "    }\n",
       "\n",
       "    .dataframe thead th {\n",
       "        text-align: right;\n",
       "    }\n",
       "</style>\n",
       "<table border=\"1\" class=\"dataframe\">\n",
       "  <thead>\n",
       "    <tr style=\"text-align: right;\">\n",
       "      <th></th>\n",
       "      <th>title</th>\n",
       "      <th>studio</th>\n",
       "      <th>domestic_gross</th>\n",
       "      <th>foreign_gross</th>\n",
       "      <th>year</th>\n",
       "    </tr>\n",
       "  </thead>\n",
       "  <tbody>\n",
       "    <tr>\n",
       "      <th>1872</th>\n",
       "      <td>Star Wars: The Force Awakens</td>\n",
       "      <td>BV</td>\n",
       "      <td>936700000.0</td>\n",
       "      <td>1134647993</td>\n",
       "      <td>2015</td>\n",
       "    </tr>\n",
       "    <tr>\n",
       "      <th>1873</th>\n",
       "      <td>Jurassic World</td>\n",
       "      <td>Uni.</td>\n",
       "      <td>652300000.0</td>\n",
       "      <td>1018130819</td>\n",
       "      <td>2015</td>\n",
       "    </tr>\n",
       "    <tr>\n",
       "      <th>1874</th>\n",
       "      <td>Furious 7</td>\n",
       "      <td>Uni.</td>\n",
       "      <td>353000000.0</td>\n",
       "      <td>1162334379</td>\n",
       "      <td>2015</td>\n",
       "    </tr>\n",
       "    <tr>\n",
       "      <th>1875</th>\n",
       "      <td>Avengers: Age of Ultron</td>\n",
       "      <td>BV</td>\n",
       "      <td>459000000.0</td>\n",
       "      <td>946400000</td>\n",
       "      <td>2015</td>\n",
       "    </tr>\n",
       "    <tr>\n",
       "      <th>1876</th>\n",
       "      <td>Minions</td>\n",
       "      <td>Uni.</td>\n",
       "      <td>336000000.0</td>\n",
       "      <td>823400000</td>\n",
       "      <td>2015</td>\n",
       "    </tr>\n",
       "  </tbody>\n",
       "</table>\n",
       "</div>"
      ],
      "text/plain": [
       "                             title studio  domestic_gross  foreign_gross  year\n",
       "1872  Star Wars: The Force Awakens     BV     936700000.0     1134647993  2015\n",
       "1873                Jurassic World   Uni.     652300000.0     1018130819  2015\n",
       "1874                     Furious 7   Uni.     353000000.0     1162334379  2015\n",
       "1875       Avengers: Age of Ultron     BV     459000000.0      946400000  2015\n",
       "1876                       Minions   Uni.     336000000.0      823400000  2015"
      ]
     },
     "execution_count": 18,
     "metadata": {},
     "output_type": "execute_result"
    }
   ],
   "source": [
    "# converting foreign_gross to int64 for readability\n",
    "\n",
    "mojo_df[\"foreign_gross\"] = mojo_df[\"foreign_gross\"].astype(\"int64\")\n",
    "mojo_df.iloc[1868:1873]"
   ]
  },
  {
   "cell_type": "code",
   "execution_count": 19,
   "metadata": {
    "scrolled": true
   },
   "outputs": [
    {
     "data": {
      "text/html": [
       "<div>\n",
       "<style scoped>\n",
       "    .dataframe tbody tr th:only-of-type {\n",
       "        vertical-align: middle;\n",
       "    }\n",
       "\n",
       "    .dataframe tbody tr th {\n",
       "        vertical-align: top;\n",
       "    }\n",
       "\n",
       "    .dataframe thead th {\n",
       "        text-align: right;\n",
       "    }\n",
       "</style>\n",
       "<table border=\"1\" class=\"dataframe\">\n",
       "  <thead>\n",
       "    <tr style=\"text-align: right;\">\n",
       "      <th></th>\n",
       "      <th>title</th>\n",
       "      <th>studio</th>\n",
       "      <th>domestic_gross</th>\n",
       "      <th>foreign_gross</th>\n",
       "      <th>year</th>\n",
       "      <th>gross_income</th>\n",
       "    </tr>\n",
       "  </thead>\n",
       "  <tbody>\n",
       "    <tr>\n",
       "      <th>0</th>\n",
       "      <td>Toy Story 3</td>\n",
       "      <td>BV</td>\n",
       "      <td>415000000.0</td>\n",
       "      <td>652000000</td>\n",
       "      <td>2010</td>\n",
       "      <td>1.067000e+09</td>\n",
       "    </tr>\n",
       "    <tr>\n",
       "      <th>1</th>\n",
       "      <td>Alice in Wonderland (2010)</td>\n",
       "      <td>BV</td>\n",
       "      <td>334200000.0</td>\n",
       "      <td>691300000</td>\n",
       "      <td>2010</td>\n",
       "      <td>1.025500e+09</td>\n",
       "    </tr>\n",
       "    <tr>\n",
       "      <th>2</th>\n",
       "      <td>Harry Potter and the Deathly Hallows Part 1</td>\n",
       "      <td>WB</td>\n",
       "      <td>296000000.0</td>\n",
       "      <td>664300000</td>\n",
       "      <td>2010</td>\n",
       "      <td>9.603000e+08</td>\n",
       "    </tr>\n",
       "    <tr>\n",
       "      <th>3</th>\n",
       "      <td>Inception</td>\n",
       "      <td>WB</td>\n",
       "      <td>292600000.0</td>\n",
       "      <td>535700000</td>\n",
       "      <td>2010</td>\n",
       "      <td>8.283000e+08</td>\n",
       "    </tr>\n",
       "    <tr>\n",
       "      <th>4</th>\n",
       "      <td>Shrek Forever After</td>\n",
       "      <td>P/DW</td>\n",
       "      <td>238700000.0</td>\n",
       "      <td>513900000</td>\n",
       "      <td>2010</td>\n",
       "      <td>7.526000e+08</td>\n",
       "    </tr>\n",
       "    <tr>\n",
       "      <th>...</th>\n",
       "      <td>...</td>\n",
       "      <td>...</td>\n",
       "      <td>...</td>\n",
       "      <td>...</td>\n",
       "      <td>...</td>\n",
       "      <td>...</td>\n",
       "    </tr>\n",
       "    <tr>\n",
       "      <th>3382</th>\n",
       "      <td>The Quake</td>\n",
       "      <td>Magn.</td>\n",
       "      <td>6200.0</td>\n",
       "      <td>0</td>\n",
       "      <td>2018</td>\n",
       "      <td>6.200000e+03</td>\n",
       "    </tr>\n",
       "    <tr>\n",
       "      <th>3383</th>\n",
       "      <td>Edward II (2018 re-release)</td>\n",
       "      <td>FM</td>\n",
       "      <td>4800.0</td>\n",
       "      <td>0</td>\n",
       "      <td>2018</td>\n",
       "      <td>4.800000e+03</td>\n",
       "    </tr>\n",
       "    <tr>\n",
       "      <th>3384</th>\n",
       "      <td>El Pacto</td>\n",
       "      <td>Sony</td>\n",
       "      <td>2500.0</td>\n",
       "      <td>0</td>\n",
       "      <td>2018</td>\n",
       "      <td>2.500000e+03</td>\n",
       "    </tr>\n",
       "    <tr>\n",
       "      <th>3385</th>\n",
       "      <td>The Swan</td>\n",
       "      <td>Synergetic</td>\n",
       "      <td>2400.0</td>\n",
       "      <td>0</td>\n",
       "      <td>2018</td>\n",
       "      <td>2.400000e+03</td>\n",
       "    </tr>\n",
       "    <tr>\n",
       "      <th>3386</th>\n",
       "      <td>An Actor Prepares</td>\n",
       "      <td>Grav.</td>\n",
       "      <td>1700.0</td>\n",
       "      <td>0</td>\n",
       "      <td>2018</td>\n",
       "      <td>1.700000e+03</td>\n",
       "    </tr>\n",
       "  </tbody>\n",
       "</table>\n",
       "<p>3382 rows × 6 columns</p>\n",
       "</div>"
      ],
      "text/plain": [
       "                                            title      studio  domestic_gross  \\\n",
       "0                                     Toy Story 3          BV     415000000.0   \n",
       "1                      Alice in Wonderland (2010)          BV     334200000.0   \n",
       "2     Harry Potter and the Deathly Hallows Part 1          WB     296000000.0   \n",
       "3                                       Inception          WB     292600000.0   \n",
       "4                             Shrek Forever After        P/DW     238700000.0   \n",
       "...                                           ...         ...             ...   \n",
       "3382                                    The Quake       Magn.          6200.0   \n",
       "3383                  Edward II (2018 re-release)          FM          4800.0   \n",
       "3384                                     El Pacto        Sony          2500.0   \n",
       "3385                                     The Swan  Synergetic          2400.0   \n",
       "3386                            An Actor Prepares       Grav.          1700.0   \n",
       "\n",
       "      foreign_gross  year  gross_income  \n",
       "0         652000000  2010  1.067000e+09  \n",
       "1         691300000  2010  1.025500e+09  \n",
       "2         664300000  2010  9.603000e+08  \n",
       "3         535700000  2010  8.283000e+08  \n",
       "4         513900000  2010  7.526000e+08  \n",
       "...             ...   ...           ...  \n",
       "3382              0  2018  6.200000e+03  \n",
       "3383              0  2018  4.800000e+03  \n",
       "3384              0  2018  2.500000e+03  \n",
       "3385              0  2018  2.400000e+03  \n",
       "3386              0  2018  1.700000e+03  \n",
       "\n",
       "[3382 rows x 6 columns]"
      ]
     },
     "execution_count": 19,
     "metadata": {},
     "output_type": "execute_result"
    }
   ],
   "source": [
    "# create new column `gross_income`\n",
    "\n",
    "mojo_df[\"gross_income\"] = mojo_df[\"domestic_gross\"] + mojo_df[\"foreign_gross\"]\n",
    "mojo_df"
   ]
  },
  {
   "cell_type": "code",
   "execution_count": 20,
   "metadata": {},
   "outputs": [
    {
     "data": {
      "text/html": [
       "<div>\n",
       "<style scoped>\n",
       "    .dataframe tbody tr th:only-of-type {\n",
       "        vertical-align: middle;\n",
       "    }\n",
       "\n",
       "    .dataframe tbody tr th {\n",
       "        vertical-align: top;\n",
       "    }\n",
       "\n",
       "    .dataframe thead th {\n",
       "        text-align: right;\n",
       "    }\n",
       "</style>\n",
       "<table border=\"1\" class=\"dataframe\">\n",
       "  <thead>\n",
       "    <tr style=\"text-align: right;\">\n",
       "      <th></th>\n",
       "      <th>title</th>\n",
       "      <th>studio</th>\n",
       "      <th>domestic_gross</th>\n",
       "      <th>foreign_gross</th>\n",
       "      <th>year</th>\n",
       "      <th>gross_income</th>\n",
       "    </tr>\n",
       "  </thead>\n",
       "  <tbody>\n",
       "    <tr>\n",
       "      <th>0</th>\n",
       "      <td>Toy Story 3</td>\n",
       "      <td>BV</td>\n",
       "      <td>415000000.0</td>\n",
       "      <td>652000000</td>\n",
       "      <td>2010</td>\n",
       "      <td>1067000000</td>\n",
       "    </tr>\n",
       "    <tr>\n",
       "      <th>1</th>\n",
       "      <td>Alice in Wonderland (2010)</td>\n",
       "      <td>BV</td>\n",
       "      <td>334200000.0</td>\n",
       "      <td>691300000</td>\n",
       "      <td>2010</td>\n",
       "      <td>1025500000</td>\n",
       "    </tr>\n",
       "    <tr>\n",
       "      <th>2</th>\n",
       "      <td>Harry Potter and the Deathly Hallows Part 1</td>\n",
       "      <td>WB</td>\n",
       "      <td>296000000.0</td>\n",
       "      <td>664300000</td>\n",
       "      <td>2010</td>\n",
       "      <td>960300000</td>\n",
       "    </tr>\n",
       "    <tr>\n",
       "      <th>3</th>\n",
       "      <td>Inception</td>\n",
       "      <td>WB</td>\n",
       "      <td>292600000.0</td>\n",
       "      <td>535700000</td>\n",
       "      <td>2010</td>\n",
       "      <td>828300000</td>\n",
       "    </tr>\n",
       "    <tr>\n",
       "      <th>4</th>\n",
       "      <td>Shrek Forever After</td>\n",
       "      <td>P/DW</td>\n",
       "      <td>238700000.0</td>\n",
       "      <td>513900000</td>\n",
       "      <td>2010</td>\n",
       "      <td>752600000</td>\n",
       "    </tr>\n",
       "    <tr>\n",
       "      <th>...</th>\n",
       "      <td>...</td>\n",
       "      <td>...</td>\n",
       "      <td>...</td>\n",
       "      <td>...</td>\n",
       "      <td>...</td>\n",
       "      <td>...</td>\n",
       "    </tr>\n",
       "    <tr>\n",
       "      <th>3382</th>\n",
       "      <td>The Quake</td>\n",
       "      <td>Magn.</td>\n",
       "      <td>6200.0</td>\n",
       "      <td>0</td>\n",
       "      <td>2018</td>\n",
       "      <td>6200</td>\n",
       "    </tr>\n",
       "    <tr>\n",
       "      <th>3383</th>\n",
       "      <td>Edward II (2018 re-release)</td>\n",
       "      <td>FM</td>\n",
       "      <td>4800.0</td>\n",
       "      <td>0</td>\n",
       "      <td>2018</td>\n",
       "      <td>4800</td>\n",
       "    </tr>\n",
       "    <tr>\n",
       "      <th>3384</th>\n",
       "      <td>El Pacto</td>\n",
       "      <td>Sony</td>\n",
       "      <td>2500.0</td>\n",
       "      <td>0</td>\n",
       "      <td>2018</td>\n",
       "      <td>2500</td>\n",
       "    </tr>\n",
       "    <tr>\n",
       "      <th>3385</th>\n",
       "      <td>The Swan</td>\n",
       "      <td>Synergetic</td>\n",
       "      <td>2400.0</td>\n",
       "      <td>0</td>\n",
       "      <td>2018</td>\n",
       "      <td>2400</td>\n",
       "    </tr>\n",
       "    <tr>\n",
       "      <th>3386</th>\n",
       "      <td>An Actor Prepares</td>\n",
       "      <td>Grav.</td>\n",
       "      <td>1700.0</td>\n",
       "      <td>0</td>\n",
       "      <td>2018</td>\n",
       "      <td>1700</td>\n",
       "    </tr>\n",
       "  </tbody>\n",
       "</table>\n",
       "<p>3382 rows × 6 columns</p>\n",
       "</div>"
      ],
      "text/plain": [
       "                                            title      studio  domestic_gross  \\\n",
       "0                                     Toy Story 3          BV     415000000.0   \n",
       "1                      Alice in Wonderland (2010)          BV     334200000.0   \n",
       "2     Harry Potter and the Deathly Hallows Part 1          WB     296000000.0   \n",
       "3                                       Inception          WB     292600000.0   \n",
       "4                             Shrek Forever After        P/DW     238700000.0   \n",
       "...                                           ...         ...             ...   \n",
       "3382                                    The Quake       Magn.          6200.0   \n",
       "3383                  Edward II (2018 re-release)          FM          4800.0   \n",
       "3384                                     El Pacto        Sony          2500.0   \n",
       "3385                                     The Swan  Synergetic          2400.0   \n",
       "3386                            An Actor Prepares       Grav.          1700.0   \n",
       "\n",
       "      foreign_gross  year  gross_income  \n",
       "0         652000000  2010    1067000000  \n",
       "1         691300000  2010    1025500000  \n",
       "2         664300000  2010     960300000  \n",
       "3         535700000  2010     828300000  \n",
       "4         513900000  2010     752600000  \n",
       "...             ...   ...           ...  \n",
       "3382              0  2018          6200  \n",
       "3383              0  2018          4800  \n",
       "3384              0  2018          2500  \n",
       "3385              0  2018          2400  \n",
       "3386              0  2018          1700  \n",
       "\n",
       "[3382 rows x 6 columns]"
      ]
     },
     "execution_count": 20,
     "metadata": {},
     "output_type": "execute_result"
    }
   ],
   "source": [
    "# convert new column \"gross_income\" to int64\n",
    "\n",
    "mojo_df[\"gross_income\"] = mojo_df[\"gross_income\"].astype(\"int64\")\n",
    "mojo_df"
   ]
  },
  {
   "cell_type": "markdown",
   "metadata": {},
   "source": [
    "#### Selecting columns to keep"
   ]
  },
  {
   "cell_type": "code",
   "execution_count": 21,
   "metadata": {},
   "outputs": [
    {
     "name": "stdout",
     "output_type": "stream",
     "text": [
      "<class 'pandas.core.frame.DataFrame'>\n",
      "Int64Index: 3382 entries, 0 to 3386\n",
      "Data columns (total 3 columns):\n",
      " #   Column        Non-Null Count  Dtype \n",
      "---  ------        --------------  ----- \n",
      " 0   title         3382 non-null   object\n",
      " 1   studio        3382 non-null   object\n",
      " 2   gross_income  3382 non-null   int64 \n",
      "dtypes: int64(1), object(2)\n",
      "memory usage: 105.7+ KB\n"
     ]
    }
   ],
   "source": [
    "mojo_df = mojo_df[[\"title\", \"studio\", \"gross_income\"]]\n",
    "mojo_df.info()"
   ]
  },
  {
   "cell_type": "markdown",
   "metadata": {},
   "source": [
    "### The Movie Database Dataset"
   ]
  },
  {
   "cell_type": "code",
   "execution_count": 22,
   "metadata": {},
   "outputs": [
    {
     "data": {
      "text/html": [
       "<div>\n",
       "<style scoped>\n",
       "    .dataframe tbody tr th:only-of-type {\n",
       "        vertical-align: middle;\n",
       "    }\n",
       "\n",
       "    .dataframe tbody tr th {\n",
       "        vertical-align: top;\n",
       "    }\n",
       "\n",
       "    .dataframe thead th {\n",
       "        text-align: right;\n",
       "    }\n",
       "</style>\n",
       "<table border=\"1\" class=\"dataframe\">\n",
       "  <thead>\n",
       "    <tr style=\"text-align: right;\">\n",
       "      <th></th>\n",
       "      <th>genre_ids</th>\n",
       "      <th>id</th>\n",
       "      <th>original_language</th>\n",
       "      <th>original_title</th>\n",
       "      <th>popularity</th>\n",
       "      <th>release_date</th>\n",
       "      <th>title</th>\n",
       "      <th>vote_average</th>\n",
       "      <th>vote_count</th>\n",
       "    </tr>\n",
       "  </thead>\n",
       "  <tbody>\n",
       "    <tr>\n",
       "      <th>0</th>\n",
       "      <td>[12, 14, 10751]</td>\n",
       "      <td>12444</td>\n",
       "      <td>en</td>\n",
       "      <td>Harry Potter and the Deathly Hallows: Part 1</td>\n",
       "      <td>33.533</td>\n",
       "      <td>2010-11-19</td>\n",
       "      <td>Harry Potter and the Deathly Hallows: Part 1</td>\n",
       "      <td>7.7</td>\n",
       "      <td>10788</td>\n",
       "    </tr>\n",
       "    <tr>\n",
       "      <th>1</th>\n",
       "      <td>[14, 12, 16, 10751]</td>\n",
       "      <td>10191</td>\n",
       "      <td>en</td>\n",
       "      <td>How to Train Your Dragon</td>\n",
       "      <td>28.734</td>\n",
       "      <td>2010-03-26</td>\n",
       "      <td>How to Train Your Dragon</td>\n",
       "      <td>7.7</td>\n",
       "      <td>7610</td>\n",
       "    </tr>\n",
       "    <tr>\n",
       "      <th>2</th>\n",
       "      <td>[12, 28, 878]</td>\n",
       "      <td>10138</td>\n",
       "      <td>en</td>\n",
       "      <td>Iron Man 2</td>\n",
       "      <td>28.515</td>\n",
       "      <td>2010-05-07</td>\n",
       "      <td>Iron Man 2</td>\n",
       "      <td>6.8</td>\n",
       "      <td>12368</td>\n",
       "    </tr>\n",
       "    <tr>\n",
       "      <th>3</th>\n",
       "      <td>[16, 35, 10751]</td>\n",
       "      <td>862</td>\n",
       "      <td>en</td>\n",
       "      <td>Toy Story</td>\n",
       "      <td>28.005</td>\n",
       "      <td>1995-11-22</td>\n",
       "      <td>Toy Story</td>\n",
       "      <td>7.9</td>\n",
       "      <td>10174</td>\n",
       "    </tr>\n",
       "    <tr>\n",
       "      <th>4</th>\n",
       "      <td>[28, 878, 12]</td>\n",
       "      <td>27205</td>\n",
       "      <td>en</td>\n",
       "      <td>Inception</td>\n",
       "      <td>27.920</td>\n",
       "      <td>2010-07-16</td>\n",
       "      <td>Inception</td>\n",
       "      <td>8.3</td>\n",
       "      <td>22186</td>\n",
       "    </tr>\n",
       "  </tbody>\n",
       "</table>\n",
       "</div>"
      ],
      "text/plain": [
       "             genre_ids     id original_language  \\\n",
       "0      [12, 14, 10751]  12444                en   \n",
       "1  [14, 12, 16, 10751]  10191                en   \n",
       "2        [12, 28, 878]  10138                en   \n",
       "3      [16, 35, 10751]    862                en   \n",
       "4        [28, 878, 12]  27205                en   \n",
       "\n",
       "                                 original_title  popularity release_date  \\\n",
       "0  Harry Potter and the Deathly Hallows: Part 1      33.533   2010-11-19   \n",
       "1                      How to Train Your Dragon      28.734   2010-03-26   \n",
       "2                                    Iron Man 2      28.515   2010-05-07   \n",
       "3                                     Toy Story      28.005   1995-11-22   \n",
       "4                                     Inception      27.920   2010-07-16   \n",
       "\n",
       "                                          title  vote_average  vote_count  \n",
       "0  Harry Potter and the Deathly Hallows: Part 1           7.7       10788  \n",
       "1                      How to Train Your Dragon           7.7        7610  \n",
       "2                                    Iron Man 2           6.8       12368  \n",
       "3                                     Toy Story           7.9       10174  \n",
       "4                                     Inception           8.3       22186  "
      ]
     },
     "execution_count": 22,
     "metadata": {},
     "output_type": "execute_result"
    }
   ],
   "source": [
    "# reading the csv file and showing the first five rows\n",
    "\n",
    "moviedb_df = pd.read_csv(\"zippedData/tmdb.movies.csv.gz\", index_col = 0)\n",
    "moviedb_df.head()"
   ]
  },
  {
   "cell_type": "code",
   "execution_count": 23,
   "metadata": {},
   "outputs": [
    {
     "name": "stdout",
     "output_type": "stream",
     "text": [
      "<class 'pandas.core.frame.DataFrame'>\n",
      "Int64Index: 26517 entries, 0 to 26516\n",
      "Data columns (total 9 columns):\n",
      " #   Column             Non-Null Count  Dtype  \n",
      "---  ------             --------------  -----  \n",
      " 0   genre_ids          26517 non-null  object \n",
      " 1   id                 26517 non-null  int64  \n",
      " 2   original_language  26517 non-null  object \n",
      " 3   original_title     26517 non-null  object \n",
      " 4   popularity         26517 non-null  float64\n",
      " 5   release_date       26517 non-null  object \n",
      " 6   title              26517 non-null  object \n",
      " 7   vote_average       26517 non-null  float64\n",
      " 8   vote_count         26517 non-null  int64  \n",
      "dtypes: float64(2), int64(2), object(5)\n",
      "memory usage: 2.0+ MB\n"
     ]
    }
   ],
   "source": [
    "# displaying a summary of the datafarame created\n",
    "# showing the datatypes, number of columns and rows, null values\n",
    "\n",
    "moviedb_df.info()"
   ]
  },
  {
   "cell_type": "markdown",
   "metadata": {},
   "source": [
    "- There are no missing values in this dataset.\n",
    "- `genre_ids` are lists of integers. There is need to find out what each integer represents. The column is important to query by genre. Otherwise, it can be dropped if a more suitable column is found in the other databases."
   ]
  },
  {
   "cell_type": "code",
   "execution_count": 24,
   "metadata": {},
   "outputs": [
    {
     "data": {
      "text/plain": [
       "genre_ids            0\n",
       "id                   0\n",
       "original_language    0\n",
       "original_title       0\n",
       "popularity           0\n",
       "release_date         0\n",
       "title                0\n",
       "vote_average         0\n",
       "vote_count           0\n",
       "dtype: int64"
      ]
     },
     "execution_count": 24,
     "metadata": {},
     "output_type": "execute_result"
    }
   ],
   "source": [
    "moviedb_df.isnull().sum()"
   ]
  },
  {
   "cell_type": "markdown",
   "metadata": {},
   "source": [
    "#### Selecting columns to keep"
   ]
  },
  {
   "cell_type": "code",
   "execution_count": 25,
   "metadata": {},
   "outputs": [
    {
     "name": "stdout",
     "output_type": "stream",
     "text": [
      "<class 'pandas.core.frame.DataFrame'>\n",
      "Int64Index: 26517 entries, 0 to 26516\n",
      "Data columns (total 2 columns):\n",
      " #   Column        Non-Null Count  Dtype  \n",
      "---  ------        --------------  -----  \n",
      " 0   title         26517 non-null  object \n",
      " 1   vote_average  26517 non-null  float64\n",
      "dtypes: float64(1), object(1)\n",
      "memory usage: 621.5+ KB\n"
     ]
    }
   ],
   "source": [
    "moviedb_df = moviedb_df[['title', 'vote_average']]\n",
    "moviedb_df.info()"
   ]
  },
  {
   "cell_type": "markdown",
   "metadata": {},
   "source": [
    "### The IMDb Dataset"
   ]
  },
  {
   "cell_type": "markdown",
   "metadata": {},
   "source": [
    "#### Connecting the database"
   ]
  },
  {
   "cell_type": "code",
   "execution_count": 26,
   "metadata": {},
   "outputs": [
    {
     "data": {
      "text/html": [
       "<div>\n",
       "<style scoped>\n",
       "    .dataframe tbody tr th:only-of-type {\n",
       "        vertical-align: middle;\n",
       "    }\n",
       "\n",
       "    .dataframe tbody tr th {\n",
       "        vertical-align: top;\n",
       "    }\n",
       "\n",
       "    .dataframe thead th {\n",
       "        text-align: right;\n",
       "    }\n",
       "</style>\n",
       "<table border=\"1\" class=\"dataframe\">\n",
       "  <thead>\n",
       "    <tr style=\"text-align: right;\">\n",
       "      <th></th>\n",
       "      <th>type</th>\n",
       "      <th>name</th>\n",
       "      <th>tbl_name</th>\n",
       "      <th>rootpage</th>\n",
       "      <th>sql</th>\n",
       "    </tr>\n",
       "  </thead>\n",
       "  <tbody>\n",
       "    <tr>\n",
       "      <th>0</th>\n",
       "      <td>table</td>\n",
       "      <td>movie_basics</td>\n",
       "      <td>movie_basics</td>\n",
       "      <td>2</td>\n",
       "      <td>CREATE TABLE \"movie_basics\" (\\n\"movie_id\" TEXT...</td>\n",
       "    </tr>\n",
       "    <tr>\n",
       "      <th>1</th>\n",
       "      <td>table</td>\n",
       "      <td>directors</td>\n",
       "      <td>directors</td>\n",
       "      <td>3</td>\n",
       "      <td>CREATE TABLE \"directors\" (\\n\"movie_id\" TEXT,\\n...</td>\n",
       "    </tr>\n",
       "    <tr>\n",
       "      <th>2</th>\n",
       "      <td>table</td>\n",
       "      <td>known_for</td>\n",
       "      <td>known_for</td>\n",
       "      <td>4</td>\n",
       "      <td>CREATE TABLE \"known_for\" (\\n\"person_id\" TEXT,\\...</td>\n",
       "    </tr>\n",
       "    <tr>\n",
       "      <th>3</th>\n",
       "      <td>table</td>\n",
       "      <td>movie_akas</td>\n",
       "      <td>movie_akas</td>\n",
       "      <td>5</td>\n",
       "      <td>CREATE TABLE \"movie_akas\" (\\n\"movie_id\" TEXT,\\...</td>\n",
       "    </tr>\n",
       "    <tr>\n",
       "      <th>4</th>\n",
       "      <td>table</td>\n",
       "      <td>movie_ratings</td>\n",
       "      <td>movie_ratings</td>\n",
       "      <td>6</td>\n",
       "      <td>CREATE TABLE \"movie_ratings\" (\\n\"movie_id\" TEX...</td>\n",
       "    </tr>\n",
       "    <tr>\n",
       "      <th>5</th>\n",
       "      <td>table</td>\n",
       "      <td>persons</td>\n",
       "      <td>persons</td>\n",
       "      <td>7</td>\n",
       "      <td>CREATE TABLE \"persons\" (\\n\"person_id\" TEXT,\\n ...</td>\n",
       "    </tr>\n",
       "    <tr>\n",
       "      <th>6</th>\n",
       "      <td>table</td>\n",
       "      <td>principals</td>\n",
       "      <td>principals</td>\n",
       "      <td>8</td>\n",
       "      <td>CREATE TABLE \"principals\" (\\n\"movie_id\" TEXT,\\...</td>\n",
       "    </tr>\n",
       "    <tr>\n",
       "      <th>7</th>\n",
       "      <td>table</td>\n",
       "      <td>writers</td>\n",
       "      <td>writers</td>\n",
       "      <td>9</td>\n",
       "      <td>CREATE TABLE \"writers\" (\\n\"movie_id\" TEXT,\\n  ...</td>\n",
       "    </tr>\n",
       "  </tbody>\n",
       "</table>\n",
       "</div>"
      ],
      "text/plain": [
       "    type           name       tbl_name  rootpage  \\\n",
       "0  table   movie_basics   movie_basics         2   \n",
       "1  table      directors      directors         3   \n",
       "2  table      known_for      known_for         4   \n",
       "3  table     movie_akas     movie_akas         5   \n",
       "4  table  movie_ratings  movie_ratings         6   \n",
       "5  table        persons        persons         7   \n",
       "6  table     principals     principals         8   \n",
       "7  table        writers        writers         9   \n",
       "\n",
       "                                                 sql  \n",
       "0  CREATE TABLE \"movie_basics\" (\\n\"movie_id\" TEXT...  \n",
       "1  CREATE TABLE \"directors\" (\\n\"movie_id\" TEXT,\\n...  \n",
       "2  CREATE TABLE \"known_for\" (\\n\"person_id\" TEXT,\\...  \n",
       "3  CREATE TABLE \"movie_akas\" (\\n\"movie_id\" TEXT,\\...  \n",
       "4  CREATE TABLE \"movie_ratings\" (\\n\"movie_id\" TEX...  \n",
       "5  CREATE TABLE \"persons\" (\\n\"person_id\" TEXT,\\n ...  \n",
       "6  CREATE TABLE \"principals\" (\\n\"movie_id\" TEXT,\\...  \n",
       "7  CREATE TABLE \"writers\" (\\n\"movie_id\" TEXT,\\n  ...  "
      ]
     },
     "execution_count": 26,
     "metadata": {},
     "output_type": "execute_result"
    }
   ],
   "source": [
    "conn = sqlite3.connect(\"zippedData/im.db\")\n",
    "cur = conn.cursor()\n",
    "tables = pd.read_sql(\"SELECT * FROM sqlite_master WHERE type='table';\", conn)\n",
    "tables"
   ]
  },
  {
   "cell_type": "markdown",
   "metadata": {},
   "source": [
    "The dataset has 8 tables. \n",
    "For this analysis, the `movie_basics` and `movie_ratings` tables will be used.\n",
    "They will then be joined using the `movie_id` column as it is common to both."
   ]
  },
  {
   "cell_type": "code",
   "execution_count": 27,
   "metadata": {},
   "outputs": [
    {
     "data": {
      "text/html": [
       "<div>\n",
       "<style scoped>\n",
       "    .dataframe tbody tr th:only-of-type {\n",
       "        vertical-align: middle;\n",
       "    }\n",
       "\n",
       "    .dataframe tbody tr th {\n",
       "        vertical-align: top;\n",
       "    }\n",
       "\n",
       "    .dataframe thead th {\n",
       "        text-align: right;\n",
       "    }\n",
       "</style>\n",
       "<table border=\"1\" class=\"dataframe\">\n",
       "  <thead>\n",
       "    <tr style=\"text-align: right;\">\n",
       "      <th></th>\n",
       "      <th>movie_id</th>\n",
       "      <th>primary_title</th>\n",
       "      <th>original_title</th>\n",
       "      <th>start_year</th>\n",
       "      <th>runtime_minutes</th>\n",
       "      <th>genres</th>\n",
       "    </tr>\n",
       "  </thead>\n",
       "  <tbody>\n",
       "    <tr>\n",
       "      <th>0</th>\n",
       "      <td>tt0063540</td>\n",
       "      <td>Sunghursh</td>\n",
       "      <td>Sunghursh</td>\n",
       "      <td>2013</td>\n",
       "      <td>175.0</td>\n",
       "      <td>Action,Crime,Drama</td>\n",
       "    </tr>\n",
       "    <tr>\n",
       "      <th>1</th>\n",
       "      <td>tt0066787</td>\n",
       "      <td>One Day Before the Rainy Season</td>\n",
       "      <td>Ashad Ka Ek Din</td>\n",
       "      <td>2019</td>\n",
       "      <td>114.0</td>\n",
       "      <td>Biography,Drama</td>\n",
       "    </tr>\n",
       "    <tr>\n",
       "      <th>2</th>\n",
       "      <td>tt0069049</td>\n",
       "      <td>The Other Side of the Wind</td>\n",
       "      <td>The Other Side of the Wind</td>\n",
       "      <td>2018</td>\n",
       "      <td>122.0</td>\n",
       "      <td>Drama</td>\n",
       "    </tr>\n",
       "    <tr>\n",
       "      <th>3</th>\n",
       "      <td>tt0069204</td>\n",
       "      <td>Sabse Bada Sukh</td>\n",
       "      <td>Sabse Bada Sukh</td>\n",
       "      <td>2018</td>\n",
       "      <td>NaN</td>\n",
       "      <td>Comedy,Drama</td>\n",
       "    </tr>\n",
       "    <tr>\n",
       "      <th>4</th>\n",
       "      <td>tt0100275</td>\n",
       "      <td>The Wandering Soap Opera</td>\n",
       "      <td>La Telenovela Errante</td>\n",
       "      <td>2017</td>\n",
       "      <td>80.0</td>\n",
       "      <td>Comedy,Drama,Fantasy</td>\n",
       "    </tr>\n",
       "  </tbody>\n",
       "</table>\n",
       "</div>"
      ],
      "text/plain": [
       "    movie_id                    primary_title              original_title  \\\n",
       "0  tt0063540                        Sunghursh                   Sunghursh   \n",
       "1  tt0066787  One Day Before the Rainy Season             Ashad Ka Ek Din   \n",
       "2  tt0069049       The Other Side of the Wind  The Other Side of the Wind   \n",
       "3  tt0069204                  Sabse Bada Sukh             Sabse Bada Sukh   \n",
       "4  tt0100275         The Wandering Soap Opera       La Telenovela Errante   \n",
       "\n",
       "   start_year  runtime_minutes                genres  \n",
       "0        2013            175.0    Action,Crime,Drama  \n",
       "1        2019            114.0       Biography,Drama  \n",
       "2        2018            122.0                 Drama  \n",
       "3        2018              NaN          Comedy,Drama  \n",
       "4        2017             80.0  Comedy,Drama,Fantasy  "
      ]
     },
     "execution_count": 27,
     "metadata": {},
     "output_type": "execute_result"
    }
   ],
   "source": [
    "# creating df from movie_basics table\n",
    "imdb_moviebasics_df = pd.read_sql(\"SELECT * FROM movie_basics\", conn)\n",
    "imdb_moviebasics_df.head()"
   ]
  },
  {
   "cell_type": "code",
   "execution_count": 28,
   "metadata": {},
   "outputs": [
    {
     "name": "stdout",
     "output_type": "stream",
     "text": [
      "<class 'pandas.core.frame.DataFrame'>\n",
      "RangeIndex: 146144 entries, 0 to 146143\n",
      "Data columns (total 6 columns):\n",
      " #   Column           Non-Null Count   Dtype  \n",
      "---  ------           --------------   -----  \n",
      " 0   movie_id         146144 non-null  object \n",
      " 1   primary_title    146144 non-null  object \n",
      " 2   original_title   146123 non-null  object \n",
      " 3   start_year       146144 non-null  int64  \n",
      " 4   runtime_minutes  114405 non-null  float64\n",
      " 5   genres           140736 non-null  object \n",
      "dtypes: float64(1), int64(1), object(4)\n",
      "memory usage: 6.7+ MB\n"
     ]
    }
   ],
   "source": [
    "imdb_moviebasics_df.info()"
   ]
  },
  {
   "cell_type": "code",
   "execution_count": 29,
   "metadata": {},
   "outputs": [
    {
     "data": {
      "text/html": [
       "<div>\n",
       "<style scoped>\n",
       "    .dataframe tbody tr th:only-of-type {\n",
       "        vertical-align: middle;\n",
       "    }\n",
       "\n",
       "    .dataframe tbody tr th {\n",
       "        vertical-align: top;\n",
       "    }\n",
       "\n",
       "    .dataframe thead th {\n",
       "        text-align: right;\n",
       "    }\n",
       "</style>\n",
       "<table border=\"1\" class=\"dataframe\">\n",
       "  <thead>\n",
       "    <tr style=\"text-align: right;\">\n",
       "      <th></th>\n",
       "      <th>movie_id</th>\n",
       "      <th>averagerating</th>\n",
       "      <th>numvotes</th>\n",
       "    </tr>\n",
       "  </thead>\n",
       "  <tbody>\n",
       "    <tr>\n",
       "      <th>0</th>\n",
       "      <td>tt10356526</td>\n",
       "      <td>8.3</td>\n",
       "      <td>31</td>\n",
       "    </tr>\n",
       "    <tr>\n",
       "      <th>1</th>\n",
       "      <td>tt10384606</td>\n",
       "      <td>8.9</td>\n",
       "      <td>559</td>\n",
       "    </tr>\n",
       "    <tr>\n",
       "      <th>2</th>\n",
       "      <td>tt1042974</td>\n",
       "      <td>6.4</td>\n",
       "      <td>20</td>\n",
       "    </tr>\n",
       "    <tr>\n",
       "      <th>3</th>\n",
       "      <td>tt1043726</td>\n",
       "      <td>4.2</td>\n",
       "      <td>50352</td>\n",
       "    </tr>\n",
       "    <tr>\n",
       "      <th>4</th>\n",
       "      <td>tt1060240</td>\n",
       "      <td>6.5</td>\n",
       "      <td>21</td>\n",
       "    </tr>\n",
       "  </tbody>\n",
       "</table>\n",
       "</div>"
      ],
      "text/plain": [
       "     movie_id  averagerating  numvotes\n",
       "0  tt10356526            8.3        31\n",
       "1  tt10384606            8.9       559\n",
       "2   tt1042974            6.4        20\n",
       "3   tt1043726            4.2     50352\n",
       "4   tt1060240            6.5        21"
      ]
     },
     "execution_count": 29,
     "metadata": {},
     "output_type": "execute_result"
    }
   ],
   "source": [
    "# creating df from movie_ratings table\n",
    "imdb_movieratings_df = pd.read_sql(\"SELECT * FROM movie_ratings\", conn)\n",
    "imdb_movieratings_df.head()"
   ]
  },
  {
   "cell_type": "code",
   "execution_count": 30,
   "metadata": {},
   "outputs": [
    {
     "name": "stdout",
     "output_type": "stream",
     "text": [
      "<class 'pandas.core.frame.DataFrame'>\n",
      "RangeIndex: 73856 entries, 0 to 73855\n",
      "Data columns (total 3 columns):\n",
      " #   Column         Non-Null Count  Dtype  \n",
      "---  ------         --------------  -----  \n",
      " 0   movie_id       73856 non-null  object \n",
      " 1   averagerating  73856 non-null  float64\n",
      " 2   numvotes       73856 non-null  int64  \n",
      "dtypes: float64(1), int64(1), object(1)\n",
      "memory usage: 1.7+ MB\n"
     ]
    }
   ],
   "source": [
    "imdb_movieratings_df.info()"
   ]
  },
  {
   "cell_type": "code",
   "execution_count": 31,
   "metadata": {},
   "outputs": [
    {
     "data": {
      "text/html": [
       "<div>\n",
       "<style scoped>\n",
       "    .dataframe tbody tr th:only-of-type {\n",
       "        vertical-align: middle;\n",
       "    }\n",
       "\n",
       "    .dataframe tbody tr th {\n",
       "        vertical-align: top;\n",
       "    }\n",
       "\n",
       "    .dataframe thead th {\n",
       "        text-align: right;\n",
       "    }\n",
       "</style>\n",
       "<table border=\"1\" class=\"dataframe\">\n",
       "  <thead>\n",
       "    <tr style=\"text-align: right;\">\n",
       "      <th></th>\n",
       "      <th>movie_id</th>\n",
       "      <th>primary_title</th>\n",
       "      <th>original_title</th>\n",
       "      <th>start_year</th>\n",
       "      <th>runtime_minutes</th>\n",
       "      <th>genres</th>\n",
       "      <th>averagerating</th>\n",
       "      <th>numvotes</th>\n",
       "    </tr>\n",
       "  </thead>\n",
       "  <tbody>\n",
       "    <tr>\n",
       "      <th>0</th>\n",
       "      <td>63540</td>\n",
       "      <td>Sunghursh</td>\n",
       "      <td>Sunghursh</td>\n",
       "      <td>2013</td>\n",
       "      <td>175.0</td>\n",
       "      <td>Action,Crime,Drama</td>\n",
       "      <td>7.0</td>\n",
       "      <td>77</td>\n",
       "    </tr>\n",
       "    <tr>\n",
       "      <th>1</th>\n",
       "      <td>66787</td>\n",
       "      <td>One Day Before the Rainy Season</td>\n",
       "      <td>Ashad Ka Ek Din</td>\n",
       "      <td>2019</td>\n",
       "      <td>114.0</td>\n",
       "      <td>Biography,Drama</td>\n",
       "      <td>7.2</td>\n",
       "      <td>43</td>\n",
       "    </tr>\n",
       "    <tr>\n",
       "      <th>2</th>\n",
       "      <td>69049</td>\n",
       "      <td>The Other Side of the Wind</td>\n",
       "      <td>The Other Side of the Wind</td>\n",
       "      <td>2018</td>\n",
       "      <td>122.0</td>\n",
       "      <td>Drama</td>\n",
       "      <td>6.9</td>\n",
       "      <td>4517</td>\n",
       "    </tr>\n",
       "    <tr>\n",
       "      <th>3</th>\n",
       "      <td>69204</td>\n",
       "      <td>Sabse Bada Sukh</td>\n",
       "      <td>Sabse Bada Sukh</td>\n",
       "      <td>2018</td>\n",
       "      <td>NaN</td>\n",
       "      <td>Comedy,Drama</td>\n",
       "      <td>6.1</td>\n",
       "      <td>13</td>\n",
       "    </tr>\n",
       "    <tr>\n",
       "      <th>4</th>\n",
       "      <td>100275</td>\n",
       "      <td>The Wandering Soap Opera</td>\n",
       "      <td>La Telenovela Errante</td>\n",
       "      <td>2017</td>\n",
       "      <td>80.0</td>\n",
       "      <td>Comedy,Drama,Fantasy</td>\n",
       "      <td>6.5</td>\n",
       "      <td>119</td>\n",
       "    </tr>\n",
       "    <tr>\n",
       "      <th>...</th>\n",
       "      <td>...</td>\n",
       "      <td>...</td>\n",
       "      <td>...</td>\n",
       "      <td>...</td>\n",
       "      <td>...</td>\n",
       "      <td>...</td>\n",
       "      <td>...</td>\n",
       "      <td>...</td>\n",
       "    </tr>\n",
       "    <tr>\n",
       "      <th>146115</th>\n",
       "      <td>9913084</td>\n",
       "      <td>Diabolik sono io</td>\n",
       "      <td>Diabolik sono io</td>\n",
       "      <td>2019</td>\n",
       "      <td>75.0</td>\n",
       "      <td>Documentary</td>\n",
       "      <td>6.2</td>\n",
       "      <td>6</td>\n",
       "    </tr>\n",
       "    <tr>\n",
       "      <th>146122</th>\n",
       "      <td>9914286</td>\n",
       "      <td>Sokagin Çocuklari</td>\n",
       "      <td>Sokagin Çocuklari</td>\n",
       "      <td>2019</td>\n",
       "      <td>98.0</td>\n",
       "      <td>Drama,Family</td>\n",
       "      <td>8.7</td>\n",
       "      <td>136</td>\n",
       "    </tr>\n",
       "    <tr>\n",
       "      <th>146125</th>\n",
       "      <td>9914642</td>\n",
       "      <td>Albatross</td>\n",
       "      <td>Albatross</td>\n",
       "      <td>2017</td>\n",
       "      <td>NaN</td>\n",
       "      <td>Documentary</td>\n",
       "      <td>8.5</td>\n",
       "      <td>8</td>\n",
       "    </tr>\n",
       "    <tr>\n",
       "      <th>146129</th>\n",
       "      <td>9914942</td>\n",
       "      <td>La vida sense la Sara Amat</td>\n",
       "      <td>La vida sense la Sara Amat</td>\n",
       "      <td>2019</td>\n",
       "      <td>NaN</td>\n",
       "      <td>None</td>\n",
       "      <td>6.6</td>\n",
       "      <td>5</td>\n",
       "    </tr>\n",
       "    <tr>\n",
       "      <th>146134</th>\n",
       "      <td>9916160</td>\n",
       "      <td>Drømmeland</td>\n",
       "      <td>Drømmeland</td>\n",
       "      <td>2019</td>\n",
       "      <td>72.0</td>\n",
       "      <td>Documentary</td>\n",
       "      <td>6.5</td>\n",
       "      <td>11</td>\n",
       "    </tr>\n",
       "  </tbody>\n",
       "</table>\n",
       "<p>73856 rows × 8 columns</p>\n",
       "</div>"
      ],
      "text/plain": [
       "        movie_id                    primary_title              original_title  \\\n",
       "0          63540                        Sunghursh                   Sunghursh   \n",
       "1          66787  One Day Before the Rainy Season             Ashad Ka Ek Din   \n",
       "2          69049       The Other Side of the Wind  The Other Side of the Wind   \n",
       "3          69204                  Sabse Bada Sukh             Sabse Bada Sukh   \n",
       "4         100275         The Wandering Soap Opera       La Telenovela Errante   \n",
       "...          ...                              ...                         ...   \n",
       "146115   9913084                 Diabolik sono io            Diabolik sono io   \n",
       "146122   9914286                Sokagin Çocuklari           Sokagin Çocuklari   \n",
       "146125   9914642                        Albatross                   Albatross   \n",
       "146129   9914942       La vida sense la Sara Amat  La vida sense la Sara Amat   \n",
       "146134   9916160                       Drømmeland                  Drømmeland   \n",
       "\n",
       "        start_year  runtime_minutes                genres  averagerating  \\\n",
       "0             2013            175.0    Action,Crime,Drama            7.0   \n",
       "1             2019            114.0       Biography,Drama            7.2   \n",
       "2             2018            122.0                 Drama            6.9   \n",
       "3             2018              NaN          Comedy,Drama            6.1   \n",
       "4             2017             80.0  Comedy,Drama,Fantasy            6.5   \n",
       "...            ...              ...                   ...            ...   \n",
       "146115        2019             75.0           Documentary            6.2   \n",
       "146122        2019             98.0          Drama,Family            8.7   \n",
       "146125        2017              NaN           Documentary            8.5   \n",
       "146129        2019              NaN                  None            6.6   \n",
       "146134        2019             72.0           Documentary            6.5   \n",
       "\n",
       "        numvotes  \n",
       "0             77  \n",
       "1             43  \n",
       "2           4517  \n",
       "3             13  \n",
       "4            119  \n",
       "...          ...  \n",
       "146115         6  \n",
       "146122       136  \n",
       "146125         8  \n",
       "146129         5  \n",
       "146134        11  \n",
       "\n",
       "[73856 rows x 8 columns]"
      ]
     },
     "execution_count": 31,
     "metadata": {},
     "output_type": "execute_result"
    }
   ],
   "source": [
    "# creating one IMDb df\n",
    "# it requires converting the intended index column, movie_id to int64 in both df\n",
    "\n",
    "imdb_moviebasics_df['movie_id'] = imdb_moviebasics_df['movie_id'].str[2:].astype('int64')\n",
    "imdb_movieratings_df['movie_id'] = imdb_movieratings_df['movie_id'].str[2:].astype('int64')\n",
    "\n",
    "imdb_df = imdb_moviebasics_df.join(imdb_movieratings_df.set_index('movie_id'), on='movie_id', how='inner')\n",
    "\n",
    "imdb_df"
   ]
  },
  {
   "cell_type": "markdown",
   "metadata": {},
   "source": [
    "Next, columns to be dropped are as follows:\n",
    "1. `original_title` - it has missing values. `primary_title` should suffice. Also, as per the [IMDb site ](https://help.imdb.com/article/contribution/titles/alternate-titles-akas/GBFBWTQG2RLMHSUR?ref_=helpsect_pro_4_8#), \"The primary title should be the original title, in the original language\". This seems more appropriate.\n",
    "2. `runtime_minutes` - not required\n",
    "3. `numvotes` - not required"
   ]
  },
  {
   "cell_type": "code",
   "execution_count": 32,
   "metadata": {},
   "outputs": [
    {
     "data": {
      "text/plain": [
       "Index(['movie_id', 'primary_title', 'start_year', 'genres', 'averagerating'], dtype='object')"
      ]
     },
     "execution_count": 32,
     "metadata": {},
     "output_type": "execute_result"
    }
   ],
   "source": [
    "imdb_df = imdb_df.drop([\"original_title\", \"runtime_minutes\", \"numvotes\"], axis=1)\n",
    "imdb_df.columns"
   ]
  },
  {
   "cell_type": "code",
   "execution_count": 33,
   "metadata": {},
   "outputs": [
    {
     "name": "stdout",
     "output_type": "stream",
     "text": [
      "<class 'pandas.core.frame.DataFrame'>\n",
      "Int64Index: 73856 entries, 0 to 146134\n",
      "Data columns (total 5 columns):\n",
      " #   Column         Non-Null Count  Dtype  \n",
      "---  ------         --------------  -----  \n",
      " 0   movie_id       73856 non-null  int64  \n",
      " 1   primary_title  73856 non-null  object \n",
      " 2   start_year     73856 non-null  int64  \n",
      " 3   genres         73052 non-null  object \n",
      " 4   averagerating  73856 non-null  float64\n",
      "dtypes: float64(1), int64(2), object(2)\n",
      "memory usage: 3.4+ MB\n"
     ]
    }
   ],
   "source": [
    "imdb_df.info()"
   ]
  },
  {
   "cell_type": "markdown",
   "metadata": {},
   "source": [
    "Work on the missing values in `genres` column by deleting the affected rows.\n",
    "The justification for this is that since such significant information is missing from the titles, the movies may not be very popular. Thus, their influence on the decison-making is minimal."
   ]
  },
  {
   "cell_type": "code",
   "execution_count": 34,
   "metadata": {},
   "outputs": [
    {
     "data": {
      "text/plain": [
       "Index(['movie_id', 'title', 'start_year', 'genres', 'averagerating'], dtype='object')"
      ]
     },
     "execution_count": 34,
     "metadata": {},
     "output_type": "execute_result"
    }
   ],
   "source": [
    "# rename primary_title column to tile\n",
    "\n",
    "imdb_df.rename(columns = {'primary_title':'title'}, inplace = True)\n",
    "imdb_df.columns"
   ]
  },
  {
   "cell_type": "markdown",
   "metadata": {},
   "source": [
    "#### Selecting columns to keep"
   ]
  },
  {
   "cell_type": "code",
   "execution_count": 35,
   "metadata": {},
   "outputs": [
    {
     "name": "stdout",
     "output_type": "stream",
     "text": [
      "<class 'pandas.core.frame.DataFrame'>\n",
      "Int64Index: 73856 entries, 0 to 146134\n",
      "Data columns (total 4 columns):\n",
      " #   Column         Non-Null Count  Dtype  \n",
      "---  ------         --------------  -----  \n",
      " 0   title          73856 non-null  object \n",
      " 1   start_year     73856 non-null  int64  \n",
      " 2   genres         73052 non-null  object \n",
      " 3   averagerating  73856 non-null  float64\n",
      "dtypes: float64(1), int64(1), object(2)\n",
      "memory usage: 2.8+ MB\n"
     ]
    }
   ],
   "source": [
    "imdb_df = imdb_df[[\"title\", \"start_year\", \"genres\", \"averagerating\"]]\n",
    "imdb_df.info()"
   ]
  },
  {
   "cell_type": "markdown",
   "metadata": {},
   "source": [
    "## Creating one DataFrame"
   ]
  },
  {
   "cell_type": "code",
   "execution_count": 36,
   "metadata": {},
   "outputs": [
    {
     "data": {
      "text/html": [
       "<div>\n",
       "<style scoped>\n",
       "    .dataframe tbody tr th:only-of-type {\n",
       "        vertical-align: middle;\n",
       "    }\n",
       "\n",
       "    .dataframe tbody tr th {\n",
       "        vertical-align: top;\n",
       "    }\n",
       "\n",
       "    .dataframe thead th {\n",
       "        text-align: right;\n",
       "    }\n",
       "</style>\n",
       "<table border=\"1\" class=\"dataframe\">\n",
       "  <thead>\n",
       "    <tr style=\"text-align: right;\">\n",
       "      <th></th>\n",
       "      <th>title</th>\n",
       "      <th>start_year</th>\n",
       "      <th>genres</th>\n",
       "      <th>averagerating</th>\n",
       "      <th>vote_average</th>\n",
       "      <th>studio</th>\n",
       "      <th>gross_income</th>\n",
       "    </tr>\n",
       "  </thead>\n",
       "  <tbody>\n",
       "    <tr>\n",
       "      <th>0</th>\n",
       "      <td>Wazir</td>\n",
       "      <td>2016</td>\n",
       "      <td>Action,Crime,Drama</td>\n",
       "      <td>7.1</td>\n",
       "      <td>6.6</td>\n",
       "      <td>Relbig.</td>\n",
       "      <td>1100000</td>\n",
       "    </tr>\n",
       "    <tr>\n",
       "      <th>1</th>\n",
       "      <td>On the Road</td>\n",
       "      <td>2012</td>\n",
       "      <td>Adventure,Drama,Romance</td>\n",
       "      <td>6.1</td>\n",
       "      <td>5.6</td>\n",
       "      <td>IFC</td>\n",
       "      <td>8744000</td>\n",
       "    </tr>\n",
       "    <tr>\n",
       "      <th>2</th>\n",
       "      <td>On the Road</td>\n",
       "      <td>2014</td>\n",
       "      <td>Drama</td>\n",
       "      <td>6.0</td>\n",
       "      <td>5.6</td>\n",
       "      <td>IFC</td>\n",
       "      <td>8744000</td>\n",
       "    </tr>\n",
       "    <tr>\n",
       "      <th>3</th>\n",
       "      <td>On the Road</td>\n",
       "      <td>2016</td>\n",
       "      <td>Drama</td>\n",
       "      <td>5.7</td>\n",
       "      <td>5.6</td>\n",
       "      <td>IFC</td>\n",
       "      <td>8744000</td>\n",
       "    </tr>\n",
       "    <tr>\n",
       "      <th>4</th>\n",
       "      <td>The Secret Life of Walter Mitty</td>\n",
       "      <td>2013</td>\n",
       "      <td>Adventure,Comedy,Drama</td>\n",
       "      <td>7.3</td>\n",
       "      <td>7.1</td>\n",
       "      <td>Fox</td>\n",
       "      <td>188100000</td>\n",
       "    </tr>\n",
       "    <tr>\n",
       "      <th>...</th>\n",
       "      <td>...</td>\n",
       "      <td>...</td>\n",
       "      <td>...</td>\n",
       "      <td>...</td>\n",
       "      <td>...</td>\n",
       "      <td>...</td>\n",
       "      <td>...</td>\n",
       "    </tr>\n",
       "    <tr>\n",
       "      <th>3292</th>\n",
       "      <td>Nobody's Fool</td>\n",
       "      <td>2018</td>\n",
       "      <td>Comedy,Drama,Romance</td>\n",
       "      <td>4.6</td>\n",
       "      <td>5.9</td>\n",
       "      <td>Par.</td>\n",
       "      <td>33500000</td>\n",
       "    </tr>\n",
       "    <tr>\n",
       "      <th>3293</th>\n",
       "      <td>Capernaum</td>\n",
       "      <td>2018</td>\n",
       "      <td>Drama</td>\n",
       "      <td>8.5</td>\n",
       "      <td>8.4</td>\n",
       "      <td>SPC</td>\n",
       "      <td>1700000</td>\n",
       "    </tr>\n",
       "    <tr>\n",
       "      <th>3294</th>\n",
       "      <td>The Spy Gone North</td>\n",
       "      <td>2018</td>\n",
       "      <td>Drama</td>\n",
       "      <td>7.2</td>\n",
       "      <td>7.3</td>\n",
       "      <td>CJ</td>\n",
       "      <td>501000</td>\n",
       "    </tr>\n",
       "    <tr>\n",
       "      <th>3295</th>\n",
       "      <td>How Long Will I Love U</td>\n",
       "      <td>2018</td>\n",
       "      <td>Romance</td>\n",
       "      <td>6.5</td>\n",
       "      <td>7.4</td>\n",
       "      <td>WGUSA</td>\n",
       "      <td>82847000</td>\n",
       "    </tr>\n",
       "    <tr>\n",
       "      <th>3296</th>\n",
       "      <td>Last Letter</td>\n",
       "      <td>2018</td>\n",
       "      <td>Drama,Romance</td>\n",
       "      <td>6.4</td>\n",
       "      <td>6.0</td>\n",
       "      <td>CL</td>\n",
       "      <td>181000</td>\n",
       "    </tr>\n",
       "  </tbody>\n",
       "</table>\n",
       "<p>3297 rows × 7 columns</p>\n",
       "</div>"
      ],
      "text/plain": [
       "                                title  start_year                   genres  \\\n",
       "0                               Wazir        2016       Action,Crime,Drama   \n",
       "1                         On the Road        2012  Adventure,Drama,Romance   \n",
       "2                         On the Road        2014                    Drama   \n",
       "3                         On the Road        2016                    Drama   \n",
       "4     The Secret Life of Walter Mitty        2013   Adventure,Comedy,Drama   \n",
       "...                               ...         ...                      ...   \n",
       "3292                    Nobody's Fool        2018     Comedy,Drama,Romance   \n",
       "3293                        Capernaum        2018                    Drama   \n",
       "3294               The Spy Gone North        2018                    Drama   \n",
       "3295           How Long Will I Love U        2018                  Romance   \n",
       "3296                      Last Letter        2018            Drama,Romance   \n",
       "\n",
       "      averagerating  vote_average   studio  gross_income  \n",
       "0               7.1           6.6  Relbig.       1100000  \n",
       "1               6.1           5.6      IFC       8744000  \n",
       "2               6.0           5.6      IFC       8744000  \n",
       "3               5.7           5.6      IFC       8744000  \n",
       "4               7.3           7.1      Fox     188100000  \n",
       "...             ...           ...      ...           ...  \n",
       "3292            4.6           5.9     Par.      33500000  \n",
       "3293            8.5           8.4      SPC       1700000  \n",
       "3294            7.2           7.3       CJ        501000  \n",
       "3295            6.5           7.4    WGUSA      82847000  \n",
       "3296            6.4           6.0       CL        181000  \n",
       "\n",
       "[3297 rows x 7 columns]"
      ]
     },
     "execution_count": 36,
     "metadata": {},
     "output_type": "execute_result"
    }
   ],
   "source": [
    "movies = imdb_df.merge(moviedb_df, on = \"title\").merge(mojo_df, on = \"title\")\n",
    "movies"
   ]
  },
  {
   "cell_type": "code",
   "execution_count": 37,
   "metadata": {},
   "outputs": [
    {
     "data": {
      "text/plain": [
       "Index(['Title', 'Start_Year', 'Genres', 'Averagerating', 'Vote_Average',\n",
       "       'Studio', 'Gross_Income'],\n",
       "      dtype='object')"
      ]
     },
     "execution_count": 37,
     "metadata": {},
     "output_type": "execute_result"
    }
   ],
   "source": [
    "movies.columns = movies.columns.str.title()\n",
    "movies.columns"
   ]
  },
  {
   "cell_type": "code",
   "execution_count": 38,
   "metadata": {
    "scrolled": false
   },
   "outputs": [
    {
     "name": "stdout",
     "output_type": "stream",
     "text": [
      "<class 'pandas.core.frame.DataFrame'>\n",
      "Int64Index: 3297 entries, 0 to 3296\n",
      "Data columns (total 7 columns):\n",
      " #   Column         Non-Null Count  Dtype  \n",
      "---  ------         --------------  -----  \n",
      " 0   Title          3297 non-null   object \n",
      " 1   Start_Year     3297 non-null   int64  \n",
      " 2   Genres         3288 non-null   object \n",
      " 3   Averagerating  3297 non-null   float64\n",
      " 4   Vote_Average   3297 non-null   float64\n",
      " 5   Studio         3297 non-null   object \n",
      " 6   Gross_Income   3297 non-null   int64  \n",
      "dtypes: float64(2), int64(2), object(3)\n",
      "memory usage: 206.1+ KB\n"
     ]
    }
   ],
   "source": [
    "movies.info()"
   ]
  },
  {
   "cell_type": "markdown",
   "metadata": {},
   "source": [
    "The `Genres` column has missing values.\n",
    "- Action - drop rows without a genre"
   ]
  },
  {
   "cell_type": "code",
   "execution_count": 39,
   "metadata": {},
   "outputs": [
    {
     "name": "stdout",
     "output_type": "stream",
     "text": [
      "<class 'pandas.core.frame.DataFrame'>\n",
      "Int64Index: 3288 entries, 0 to 3296\n",
      "Data columns (total 7 columns):\n",
      " #   Column         Non-Null Count  Dtype  \n",
      "---  ------         --------------  -----  \n",
      " 0   Title          3288 non-null   object \n",
      " 1   Start_Year     3288 non-null   int64  \n",
      " 2   Genres         3288 non-null   object \n",
      " 3   Averagerating  3288 non-null   float64\n",
      " 4   Vote_Average   3288 non-null   float64\n",
      " 5   Studio         3288 non-null   object \n",
      " 6   Gross_Income   3288 non-null   int64  \n",
      "dtypes: float64(2), int64(2), object(3)\n",
      "memory usage: 205.5+ KB\n"
     ]
    }
   ],
   "source": [
    "movies = movies.dropna(subset=[\"Genres\"])\n",
    "movies.info()"
   ]
  },
  {
   "cell_type": "markdown",
   "metadata": {},
   "source": [
    "## Adding some needed columns"
   ]
  },
  {
   "cell_type": "markdown",
   "metadata": {},
   "source": [
    "- Splitting the str list from the Genres column\n",
    "- New column Genre created"
   ]
  },
  {
   "cell_type": "code",
   "execution_count": 40,
   "metadata": {
    "scrolled": false
   },
   "outputs": [
    {
     "data": {
      "text/html": [
       "<div>\n",
       "<style scoped>\n",
       "    .dataframe tbody tr th:only-of-type {\n",
       "        vertical-align: middle;\n",
       "    }\n",
       "\n",
       "    .dataframe tbody tr th {\n",
       "        vertical-align: top;\n",
       "    }\n",
       "\n",
       "    .dataframe thead th {\n",
       "        text-align: right;\n",
       "    }\n",
       "</style>\n",
       "<table border=\"1\" class=\"dataframe\">\n",
       "  <thead>\n",
       "    <tr style=\"text-align: right;\">\n",
       "      <th></th>\n",
       "      <th>Title</th>\n",
       "      <th>Start_Year</th>\n",
       "      <th>Genres</th>\n",
       "      <th>Averagerating</th>\n",
       "      <th>Vote_Average</th>\n",
       "      <th>Studio</th>\n",
       "      <th>Gross_Income</th>\n",
       "      <th>Genre</th>\n",
       "    </tr>\n",
       "  </thead>\n",
       "  <tbody>\n",
       "    <tr>\n",
       "      <th>0</th>\n",
       "      <td>Wazir</td>\n",
       "      <td>2016</td>\n",
       "      <td>Action,Crime,Drama</td>\n",
       "      <td>7.1</td>\n",
       "      <td>6.6</td>\n",
       "      <td>Relbig.</td>\n",
       "      <td>1100000</td>\n",
       "      <td>Action</td>\n",
       "    </tr>\n",
       "    <tr>\n",
       "      <th>0</th>\n",
       "      <td>Wazir</td>\n",
       "      <td>2016</td>\n",
       "      <td>Action,Crime,Drama</td>\n",
       "      <td>7.1</td>\n",
       "      <td>6.6</td>\n",
       "      <td>Relbig.</td>\n",
       "      <td>1100000</td>\n",
       "      <td>Crime</td>\n",
       "    </tr>\n",
       "    <tr>\n",
       "      <th>0</th>\n",
       "      <td>Wazir</td>\n",
       "      <td>2016</td>\n",
       "      <td>Action,Crime,Drama</td>\n",
       "      <td>7.1</td>\n",
       "      <td>6.6</td>\n",
       "      <td>Relbig.</td>\n",
       "      <td>1100000</td>\n",
       "      <td>Drama</td>\n",
       "    </tr>\n",
       "    <tr>\n",
       "      <th>1</th>\n",
       "      <td>On the Road</td>\n",
       "      <td>2012</td>\n",
       "      <td>Adventure,Drama,Romance</td>\n",
       "      <td>6.1</td>\n",
       "      <td>5.6</td>\n",
       "      <td>IFC</td>\n",
       "      <td>8744000</td>\n",
       "      <td>Adventure</td>\n",
       "    </tr>\n",
       "    <tr>\n",
       "      <th>1</th>\n",
       "      <td>On the Road</td>\n",
       "      <td>2012</td>\n",
       "      <td>Adventure,Drama,Romance</td>\n",
       "      <td>6.1</td>\n",
       "      <td>5.6</td>\n",
       "      <td>IFC</td>\n",
       "      <td>8744000</td>\n",
       "      <td>Drama</td>\n",
       "    </tr>\n",
       "  </tbody>\n",
       "</table>\n",
       "</div>"
      ],
      "text/plain": [
       "         Title  Start_Year                   Genres  Averagerating  \\\n",
       "0        Wazir        2016       Action,Crime,Drama            7.1   \n",
       "0        Wazir        2016       Action,Crime,Drama            7.1   \n",
       "0        Wazir        2016       Action,Crime,Drama            7.1   \n",
       "1  On the Road        2012  Adventure,Drama,Romance            6.1   \n",
       "1  On the Road        2012  Adventure,Drama,Romance            6.1   \n",
       "\n",
       "   Vote_Average   Studio  Gross_Income      Genre  \n",
       "0           6.6  Relbig.       1100000     Action  \n",
       "0           6.6  Relbig.       1100000      Crime  \n",
       "0           6.6  Relbig.       1100000      Drama  \n",
       "1           5.6      IFC       8744000  Adventure  \n",
       "1           5.6      IFC       8744000      Drama  "
      ]
     },
     "execution_count": 40,
     "metadata": {},
     "output_type": "execute_result"
    }
   ],
   "source": [
    "movies = movies.assign(Genre = movies[\"Genres\"].str.split(',')).explode(\"Genre\")\n",
    "movies.head()"
   ]
  },
  {
   "cell_type": "markdown",
   "metadata": {},
   "source": [
    "- Combine the `Averagerating` and\t`Vote_Average` columns by getting their average.\n",
    "- Create a new column `Rating` for this"
   ]
  },
  {
   "cell_type": "code",
   "execution_count": 41,
   "metadata": {
    "scrolled": true
   },
   "outputs": [
    {
     "data": {
      "text/html": [
       "<div>\n",
       "<style scoped>\n",
       "    .dataframe tbody tr th:only-of-type {\n",
       "        vertical-align: middle;\n",
       "    }\n",
       "\n",
       "    .dataframe tbody tr th {\n",
       "        vertical-align: top;\n",
       "    }\n",
       "\n",
       "    .dataframe thead th {\n",
       "        text-align: right;\n",
       "    }\n",
       "</style>\n",
       "<table border=\"1\" class=\"dataframe\">\n",
       "  <thead>\n",
       "    <tr style=\"text-align: right;\">\n",
       "      <th></th>\n",
       "      <th>Title</th>\n",
       "      <th>Start_Year</th>\n",
       "      <th>Genres</th>\n",
       "      <th>Averagerating</th>\n",
       "      <th>Vote_Average</th>\n",
       "      <th>Studio</th>\n",
       "      <th>Gross_Income</th>\n",
       "      <th>Genre</th>\n",
       "      <th>Rating</th>\n",
       "    </tr>\n",
       "  </thead>\n",
       "  <tbody>\n",
       "    <tr>\n",
       "      <th>0</th>\n",
       "      <td>Wazir</td>\n",
       "      <td>2016</td>\n",
       "      <td>Action,Crime,Drama</td>\n",
       "      <td>7.1</td>\n",
       "      <td>6.6</td>\n",
       "      <td>Relbig.</td>\n",
       "      <td>1100000</td>\n",
       "      <td>Action</td>\n",
       "      <td>6.85</td>\n",
       "    </tr>\n",
       "    <tr>\n",
       "      <th>0</th>\n",
       "      <td>Wazir</td>\n",
       "      <td>2016</td>\n",
       "      <td>Action,Crime,Drama</td>\n",
       "      <td>7.1</td>\n",
       "      <td>6.6</td>\n",
       "      <td>Relbig.</td>\n",
       "      <td>1100000</td>\n",
       "      <td>Crime</td>\n",
       "      <td>6.85</td>\n",
       "    </tr>\n",
       "    <tr>\n",
       "      <th>0</th>\n",
       "      <td>Wazir</td>\n",
       "      <td>2016</td>\n",
       "      <td>Action,Crime,Drama</td>\n",
       "      <td>7.1</td>\n",
       "      <td>6.6</td>\n",
       "      <td>Relbig.</td>\n",
       "      <td>1100000</td>\n",
       "      <td>Drama</td>\n",
       "      <td>6.85</td>\n",
       "    </tr>\n",
       "    <tr>\n",
       "      <th>1</th>\n",
       "      <td>On the Road</td>\n",
       "      <td>2012</td>\n",
       "      <td>Adventure,Drama,Romance</td>\n",
       "      <td>6.1</td>\n",
       "      <td>5.6</td>\n",
       "      <td>IFC</td>\n",
       "      <td>8744000</td>\n",
       "      <td>Adventure</td>\n",
       "      <td>5.85</td>\n",
       "    </tr>\n",
       "    <tr>\n",
       "      <th>1</th>\n",
       "      <td>On the Road</td>\n",
       "      <td>2012</td>\n",
       "      <td>Adventure,Drama,Romance</td>\n",
       "      <td>6.1</td>\n",
       "      <td>5.6</td>\n",
       "      <td>IFC</td>\n",
       "      <td>8744000</td>\n",
       "      <td>Drama</td>\n",
       "      <td>5.85</td>\n",
       "    </tr>\n",
       "  </tbody>\n",
       "</table>\n",
       "</div>"
      ],
      "text/plain": [
       "         Title  Start_Year                   Genres  Averagerating  \\\n",
       "0        Wazir        2016       Action,Crime,Drama            7.1   \n",
       "0        Wazir        2016       Action,Crime,Drama            7.1   \n",
       "0        Wazir        2016       Action,Crime,Drama            7.1   \n",
       "1  On the Road        2012  Adventure,Drama,Romance            6.1   \n",
       "1  On the Road        2012  Adventure,Drama,Romance            6.1   \n",
       "\n",
       "   Vote_Average   Studio  Gross_Income      Genre  Rating  \n",
       "0           6.6  Relbig.       1100000     Action    6.85  \n",
       "0           6.6  Relbig.       1100000      Crime    6.85  \n",
       "0           6.6  Relbig.       1100000      Drama    6.85  \n",
       "1           5.6      IFC       8744000  Adventure    5.85  \n",
       "1           5.6      IFC       8744000      Drama    5.85  "
      ]
     },
     "execution_count": 41,
     "metadata": {},
     "output_type": "execute_result"
    }
   ],
   "source": [
    "movies[\"Rating\"] = (movies[\"Averagerating\"] + movies[\"Vote_Average\"]) / 2\n",
    "movies.head()"
   ]
  },
  {
   "cell_type": "markdown",
   "metadata": {},
   "source": [
    "## Data Analysis, Visualization and Evaluation"
   ]
  },
  {
   "cell_type": "markdown",
   "metadata": {},
   "source": [
    "### 1. Top grossing movies"
   ]
  },
  {
   "cell_type": "markdown",
   "metadata": {},
   "source": [
    "####  Calculating the total gross for each film"
   ]
  },
  {
   "cell_type": "code",
   "execution_count": 42,
   "metadata": {
    "scrolled": false
   },
   "outputs": [
    {
     "name": "stdout",
     "output_type": "stream",
     "text": [
      "                         Title  Gross_Income\n",
      "2878    Avengers: Infinity War    2052399557\n",
      "2878    Avengers: Infinity War    2052399557\n",
      "2878    Avengers: Infinity War    2052399557\n",
      "6               Jurassic World    1670430819\n",
      "6               Jurassic World    1670430819\n",
      "6               Jurassic World    1670430819\n",
      "2421                 Furious 7    1515334379\n",
      "2421                 Furious 7    1515334379\n",
      "2421                 Furious 7    1515334379\n",
      "2198   Avengers: Age of Ultron    1405400000\n",
      "2198   Avengers: Age of Ultron    1405400000\n",
      "2198   Avengers: Age of Ultron    1405400000\n",
      "1546             Black Panther    1347000000\n",
      "1545             Black Panther    1347000000\n",
      "1545             Black Panther    1347000000\n",
      "1545             Black Panther    1347000000\n",
      "1546             Black Panther    1347000000\n",
      "1546             Black Panther    1347000000\n",
      "2280  Star Wars: The Last Jedi    1332600000\n",
      "2281  Star Wars: The Last Jedi    1332600000\n"
     ]
    }
   ],
   "source": [
    "top_grossing_movies = movies.sort_values(by = \"Gross_Income\", ascending=False).head(20)\n",
    "print(top_grossing_movies[[\"Title\", \"Gross_Income\"]])"
   ]
  },
  {
   "cell_type": "code",
   "execution_count": 43,
   "metadata": {
    "scrolled": true
   },
   "outputs": [
    {
     "data": {
      "text/plain": [
       "Title             Avengers: Infinity War\n",
       "Start_Year                          2018\n",
       "Genres           Action,Adventure,Sci-Fi\n",
       "Averagerating                        8.5\n",
       "Vote_Average                         8.3\n",
       "Studio                                BV\n",
       "Gross_Income                  2052399557\n",
       "Genre                             Sci-Fi\n",
       "Rating                               8.4\n",
       "Name: 2878, dtype: object"
      ]
     },
     "execution_count": 43,
     "metadata": {},
     "output_type": "execute_result"
    }
   ],
   "source": [
    "top_grossing_movies.iloc[0]"
   ]
  },
  {
   "cell_type": "code",
   "execution_count": 44,
   "metadata": {},
   "outputs": [
    {
     "data": {
      "text/plain": [
       "Title            Star Wars: The Last Jedi\n",
       "Start_Year                           2017\n",
       "Genres           Action,Adventure,Fantasy\n",
       "Averagerating                         7.1\n",
       "Vote_Average                            7\n",
       "Studio                                 BV\n",
       "Gross_Income                   1332600000\n",
       "Genre                              Action\n",
       "Rating                               7.05\n",
       "Name: 2281, dtype: object"
      ]
     },
     "execution_count": 44,
     "metadata": {},
     "output_type": "execute_result"
    }
   ],
   "source": [
    "top_grossing_movies.iloc[-1]"
   ]
  },
  {
   "cell_type": "markdown",
   "metadata": {},
   "source": [
    "- **Avengers: Infinity War** grossed the highest income as per the dataset. It is categorised under the Action, Adventure and Sci-Fi genres. The income grossed to USD 2,052,399,557.\n",
    "- **Captain America: Civil War** grossed the least amount (USD 1,153,300,000). It is listed in genres similar to **Avengers: Infinity War**, i.e. Action, Adventure and Sci-Fi."
   ]
  },
  {
   "cell_type": "code",
   "execution_count": 45,
   "metadata": {
    "scrolled": true
   },
   "outputs": [
    {
     "data": {
      "text/html": [
       "<div>\n",
       "<style scoped>\n",
       "    .dataframe tbody tr th:only-of-type {\n",
       "        vertical-align: middle;\n",
       "    }\n",
       "\n",
       "    .dataframe tbody tr th {\n",
       "        vertical-align: top;\n",
       "    }\n",
       "\n",
       "    .dataframe thead th {\n",
       "        text-align: right;\n",
       "    }\n",
       "</style>\n",
       "<table border=\"1\" class=\"dataframe\">\n",
       "  <thead>\n",
       "    <tr style=\"text-align: right;\">\n",
       "      <th></th>\n",
       "      <th>Start_Year</th>\n",
       "      <th>Averagerating</th>\n",
       "      <th>Vote_Average</th>\n",
       "      <th>Gross_Income</th>\n",
       "      <th>Rating</th>\n",
       "    </tr>\n",
       "  </thead>\n",
       "  <tbody>\n",
       "    <tr>\n",
       "      <th>count</th>\n",
       "      <td>20.000000</td>\n",
       "      <td>20.000000</td>\n",
       "      <td>20.000000</td>\n",
       "      <td>2.000000e+01</td>\n",
       "      <td>20.000000</td>\n",
       "    </tr>\n",
       "    <tr>\n",
       "      <th>mean</th>\n",
       "      <td>2016.550000</td>\n",
       "      <td>7.400000</td>\n",
       "      <td>7.000000</td>\n",
       "      <td>1.533895e+09</td>\n",
       "      <td>7.200000</td>\n",
       "    </tr>\n",
       "    <tr>\n",
       "      <th>std</th>\n",
       "      <td>1.468081</td>\n",
       "      <td>0.486664</td>\n",
       "      <td>0.956969</td>\n",
       "      <td>2.516944e+08</td>\n",
       "      <td>0.646855</td>\n",
       "    </tr>\n",
       "    <tr>\n",
       "      <th>min</th>\n",
       "      <td>2015.000000</td>\n",
       "      <td>7.000000</td>\n",
       "      <td>5.100000</td>\n",
       "      <td>1.332600e+09</td>\n",
       "      <td>6.200000</td>\n",
       "    </tr>\n",
       "    <tr>\n",
       "      <th>25%</th>\n",
       "      <td>2015.000000</td>\n",
       "      <td>7.175000</td>\n",
       "      <td>6.600000</td>\n",
       "      <td>1.347000e+09</td>\n",
       "      <td>6.800000</td>\n",
       "    </tr>\n",
       "    <tr>\n",
       "      <th>50%</th>\n",
       "      <td>2017.000000</td>\n",
       "      <td>7.300000</td>\n",
       "      <td>7.300000</td>\n",
       "      <td>1.405400e+09</td>\n",
       "      <td>7.250000</td>\n",
       "    </tr>\n",
       "    <tr>\n",
       "      <th>75%</th>\n",
       "      <td>2018.000000</td>\n",
       "      <td>7.300000</td>\n",
       "      <td>7.400000</td>\n",
       "      <td>1.670431e+09</td>\n",
       "      <td>7.350000</td>\n",
       "    </tr>\n",
       "    <tr>\n",
       "      <th>max</th>\n",
       "      <td>2018.000000</td>\n",
       "      <td>8.500000</td>\n",
       "      <td>8.300000</td>\n",
       "      <td>2.052400e+09</td>\n",
       "      <td>8.400000</td>\n",
       "    </tr>\n",
       "  </tbody>\n",
       "</table>\n",
       "</div>"
      ],
      "text/plain": [
       "        Start_Year  Averagerating  Vote_Average  Gross_Income     Rating\n",
       "count    20.000000      20.000000     20.000000  2.000000e+01  20.000000\n",
       "mean   2016.550000       7.400000      7.000000  1.533895e+09   7.200000\n",
       "std       1.468081       0.486664      0.956969  2.516944e+08   0.646855\n",
       "min    2015.000000       7.000000      5.100000  1.332600e+09   6.200000\n",
       "25%    2015.000000       7.175000      6.600000  1.347000e+09   6.800000\n",
       "50%    2017.000000       7.300000      7.300000  1.405400e+09   7.250000\n",
       "75%    2018.000000       7.300000      7.400000  1.670431e+09   7.350000\n",
       "max    2018.000000       8.500000      8.300000  2.052400e+09   8.400000"
      ]
     },
     "execution_count": 45,
     "metadata": {},
     "output_type": "execute_result"
    }
   ],
   "source": [
    "# descriptive statistics of the top grossing movies\n",
    "top_grossing_movies.describe()"
   ]
  },
  {
   "cell_type": "markdown",
   "metadata": {},
   "source": [
    "#### A table showing the top 20 movies by gross income"
   ]
  },
  {
   "cell_type": "code",
   "execution_count": 46,
   "metadata": {},
   "outputs": [
    {
     "data": {
      "text/plain": [
       "False"
      ]
     },
     "execution_count": 46,
     "metadata": {},
     "output_type": "execute_result"
    }
   ],
   "source": [
    "# check if indices is unique\n",
    "top_grossing_movies.index.is_unique"
   ]
  },
  {
   "cell_type": "code",
   "execution_count": 47,
   "metadata": {},
   "outputs": [],
   "source": [
    "# reset the index\n",
    "\n",
    "top_grossing_movies.reset_index(inplace=True)"
   ]
  },
  {
   "cell_type": "code",
   "execution_count": 61,
   "metadata": {},
   "outputs": [
    {
     "data": {
      "text/html": [
       "<style  type=\"text/css\" >\n",
       "#T_b5beed14_dc77_11ed_bba3_b0227a895753row0_col0,#T_b5beed14_dc77_11ed_bba3_b0227a895753row0_col2,#T_b5beed14_dc77_11ed_bba3_b0227a895753row0_col4,#T_b5beed14_dc77_11ed_bba3_b0227a895753row0_col5,#T_b5beed14_dc77_11ed_bba3_b0227a895753row0_col7,#T_b5beed14_dc77_11ed_bba3_b0227a895753row0_col9,#T_b5beed14_dc77_11ed_bba3_b0227a895753row1_col0,#T_b5beed14_dc77_11ed_bba3_b0227a895753row1_col2,#T_b5beed14_dc77_11ed_bba3_b0227a895753row1_col4,#T_b5beed14_dc77_11ed_bba3_b0227a895753row1_col5,#T_b5beed14_dc77_11ed_bba3_b0227a895753row1_col7,#T_b5beed14_dc77_11ed_bba3_b0227a895753row1_col9,#T_b5beed14_dc77_11ed_bba3_b0227a895753row2_col0,#T_b5beed14_dc77_11ed_bba3_b0227a895753row2_col2,#T_b5beed14_dc77_11ed_bba3_b0227a895753row2_col4,#T_b5beed14_dc77_11ed_bba3_b0227a895753row2_col5,#T_b5beed14_dc77_11ed_bba3_b0227a895753row2_col7,#T_b5beed14_dc77_11ed_bba3_b0227a895753row2_col9,#T_b5beed14_dc77_11ed_bba3_b0227a895753row12_col2,#T_b5beed14_dc77_11ed_bba3_b0227a895753row13_col2,#T_b5beed14_dc77_11ed_bba3_b0227a895753row14_col2,#T_b5beed14_dc77_11ed_bba3_b0227a895753row15_col2,#T_b5beed14_dc77_11ed_bba3_b0227a895753row16_col2,#T_b5beed14_dc77_11ed_bba3_b0227a895753row17_col2{\n",
       "            background-color:  #08306b;\n",
       "            color:  #f1f1f1;\n",
       "            background-color:  grey;\n",
       "            text-align:  center;\n",
       "        }#T_b5beed14_dc77_11ed_bba3_b0227a895753row0_col1,#T_b5beed14_dc77_11ed_bba3_b0227a895753row0_col3,#T_b5beed14_dc77_11ed_bba3_b0227a895753row0_col6,#T_b5beed14_dc77_11ed_bba3_b0227a895753row0_col8,#T_b5beed14_dc77_11ed_bba3_b0227a895753row1_col1,#T_b5beed14_dc77_11ed_bba3_b0227a895753row1_col3,#T_b5beed14_dc77_11ed_bba3_b0227a895753row1_col6,#T_b5beed14_dc77_11ed_bba3_b0227a895753row1_col8,#T_b5beed14_dc77_11ed_bba3_b0227a895753row2_col1,#T_b5beed14_dc77_11ed_bba3_b0227a895753row2_col3,#T_b5beed14_dc77_11ed_bba3_b0227a895753row2_col6,#T_b5beed14_dc77_11ed_bba3_b0227a895753row2_col8,#T_b5beed14_dc77_11ed_bba3_b0227a895753row3_col1,#T_b5beed14_dc77_11ed_bba3_b0227a895753row3_col3,#T_b5beed14_dc77_11ed_bba3_b0227a895753row3_col6,#T_b5beed14_dc77_11ed_bba3_b0227a895753row3_col8,#T_b5beed14_dc77_11ed_bba3_b0227a895753row4_col1,#T_b5beed14_dc77_11ed_bba3_b0227a895753row4_col3,#T_b5beed14_dc77_11ed_bba3_b0227a895753row4_col6,#T_b5beed14_dc77_11ed_bba3_b0227a895753row4_col8,#T_b5beed14_dc77_11ed_bba3_b0227a895753row5_col1,#T_b5beed14_dc77_11ed_bba3_b0227a895753row5_col3,#T_b5beed14_dc77_11ed_bba3_b0227a895753row5_col6,#T_b5beed14_dc77_11ed_bba3_b0227a895753row5_col8,#T_b5beed14_dc77_11ed_bba3_b0227a895753row6_col1,#T_b5beed14_dc77_11ed_bba3_b0227a895753row6_col3,#T_b5beed14_dc77_11ed_bba3_b0227a895753row6_col6,#T_b5beed14_dc77_11ed_bba3_b0227a895753row6_col8,#T_b5beed14_dc77_11ed_bba3_b0227a895753row7_col1,#T_b5beed14_dc77_11ed_bba3_b0227a895753row7_col3,#T_b5beed14_dc77_11ed_bba3_b0227a895753row7_col6,#T_b5beed14_dc77_11ed_bba3_b0227a895753row7_col8,#T_b5beed14_dc77_11ed_bba3_b0227a895753row8_col1,#T_b5beed14_dc77_11ed_bba3_b0227a895753row8_col3,#T_b5beed14_dc77_11ed_bba3_b0227a895753row8_col6,#T_b5beed14_dc77_11ed_bba3_b0227a895753row8_col8,#T_b5beed14_dc77_11ed_bba3_b0227a895753row9_col1,#T_b5beed14_dc77_11ed_bba3_b0227a895753row9_col3,#T_b5beed14_dc77_11ed_bba3_b0227a895753row9_col6,#T_b5beed14_dc77_11ed_bba3_b0227a895753row9_col8,#T_b5beed14_dc77_11ed_bba3_b0227a895753row10_col1,#T_b5beed14_dc77_11ed_bba3_b0227a895753row10_col3,#T_b5beed14_dc77_11ed_bba3_b0227a895753row10_col6,#T_b5beed14_dc77_11ed_bba3_b0227a895753row10_col8,#T_b5beed14_dc77_11ed_bba3_b0227a895753row11_col1,#T_b5beed14_dc77_11ed_bba3_b0227a895753row11_col3,#T_b5beed14_dc77_11ed_bba3_b0227a895753row11_col6,#T_b5beed14_dc77_11ed_bba3_b0227a895753row11_col8,#T_b5beed14_dc77_11ed_bba3_b0227a895753row12_col1,#T_b5beed14_dc77_11ed_bba3_b0227a895753row12_col3,#T_b5beed14_dc77_11ed_bba3_b0227a895753row12_col6,#T_b5beed14_dc77_11ed_bba3_b0227a895753row12_col8,#T_b5beed14_dc77_11ed_bba3_b0227a895753row13_col1,#T_b5beed14_dc77_11ed_bba3_b0227a895753row13_col3,#T_b5beed14_dc77_11ed_bba3_b0227a895753row13_col6,#T_b5beed14_dc77_11ed_bba3_b0227a895753row13_col8,#T_b5beed14_dc77_11ed_bba3_b0227a895753row14_col1,#T_b5beed14_dc77_11ed_bba3_b0227a895753row14_col3,#T_b5beed14_dc77_11ed_bba3_b0227a895753row14_col6,#T_b5beed14_dc77_11ed_bba3_b0227a895753row14_col8,#T_b5beed14_dc77_11ed_bba3_b0227a895753row15_col1,#T_b5beed14_dc77_11ed_bba3_b0227a895753row15_col3,#T_b5beed14_dc77_11ed_bba3_b0227a895753row15_col6,#T_b5beed14_dc77_11ed_bba3_b0227a895753row15_col8,#T_b5beed14_dc77_11ed_bba3_b0227a895753row16_col1,#T_b5beed14_dc77_11ed_bba3_b0227a895753row16_col3,#T_b5beed14_dc77_11ed_bba3_b0227a895753row16_col6,#T_b5beed14_dc77_11ed_bba3_b0227a895753row16_col8,#T_b5beed14_dc77_11ed_bba3_b0227a895753row17_col1,#T_b5beed14_dc77_11ed_bba3_b0227a895753row17_col3,#T_b5beed14_dc77_11ed_bba3_b0227a895753row17_col6,#T_b5beed14_dc77_11ed_bba3_b0227a895753row17_col8,#T_b5beed14_dc77_11ed_bba3_b0227a895753row18_col1,#T_b5beed14_dc77_11ed_bba3_b0227a895753row18_col3,#T_b5beed14_dc77_11ed_bba3_b0227a895753row18_col6,#T_b5beed14_dc77_11ed_bba3_b0227a895753row18_col8,#T_b5beed14_dc77_11ed_bba3_b0227a895753row19_col1,#T_b5beed14_dc77_11ed_bba3_b0227a895753row19_col3,#T_b5beed14_dc77_11ed_bba3_b0227a895753row19_col6,#T_b5beed14_dc77_11ed_bba3_b0227a895753row19_col8{\n",
       "            text-align:  center;\n",
       "        }#T_b5beed14_dc77_11ed_bba3_b0227a895753row3_col0,#T_b5beed14_dc77_11ed_bba3_b0227a895753row3_col2,#T_b5beed14_dc77_11ed_bba3_b0227a895753row3_col4,#T_b5beed14_dc77_11ed_bba3_b0227a895753row4_col0,#T_b5beed14_dc77_11ed_bba3_b0227a895753row4_col2,#T_b5beed14_dc77_11ed_bba3_b0227a895753row4_col4,#T_b5beed14_dc77_11ed_bba3_b0227a895753row5_col0,#T_b5beed14_dc77_11ed_bba3_b0227a895753row5_col2,#T_b5beed14_dc77_11ed_bba3_b0227a895753row5_col4,#T_b5beed14_dc77_11ed_bba3_b0227a895753row6_col2,#T_b5beed14_dc77_11ed_bba3_b0227a895753row7_col2,#T_b5beed14_dc77_11ed_bba3_b0227a895753row8_col2,#T_b5beed14_dc77_11ed_bba3_b0227a895753row9_col2,#T_b5beed14_dc77_11ed_bba3_b0227a895753row10_col2,#T_b5beed14_dc77_11ed_bba3_b0227a895753row11_col2,#T_b5beed14_dc77_11ed_bba3_b0227a895753row13_col5,#T_b5beed14_dc77_11ed_bba3_b0227a895753row13_col9,#T_b5beed14_dc77_11ed_bba3_b0227a895753row14_col5,#T_b5beed14_dc77_11ed_bba3_b0227a895753row14_col9,#T_b5beed14_dc77_11ed_bba3_b0227a895753row15_col5,#T_b5beed14_dc77_11ed_bba3_b0227a895753row15_col9,#T_b5beed14_dc77_11ed_bba3_b0227a895753row18_col7,#T_b5beed14_dc77_11ed_bba3_b0227a895753row19_col7{\n",
       "            background-color:  #f7fbff;\n",
       "            color:  #000000;\n",
       "            text-align:  center;\n",
       "        }#T_b5beed14_dc77_11ed_bba3_b0227a895753row3_col5,#T_b5beed14_dc77_11ed_bba3_b0227a895753row4_col5,#T_b5beed14_dc77_11ed_bba3_b0227a895753row5_col5{\n",
       "            background-color:  #79b5d9;\n",
       "            color:  #000000;\n",
       "            text-align:  center;\n",
       "        }#T_b5beed14_dc77_11ed_bba3_b0227a895753row3_col7,#T_b5beed14_dc77_11ed_bba3_b0227a895753row4_col7,#T_b5beed14_dc77_11ed_bba3_b0227a895753row5_col7{\n",
       "            background-color:  #77b5d9;\n",
       "            color:  #000000;\n",
       "            text-align:  center;\n",
       "        }#T_b5beed14_dc77_11ed_bba3_b0227a895753row3_col9,#T_b5beed14_dc77_11ed_bba3_b0227a895753row4_col9,#T_b5beed14_dc77_11ed_bba3_b0227a895753row5_col9{\n",
       "            background-color:  #bfd8ed;\n",
       "            color:  #000000;\n",
       "            text-align:  center;\n",
       "        }#T_b5beed14_dc77_11ed_bba3_b0227a895753row6_col0,#T_b5beed14_dc77_11ed_bba3_b0227a895753row7_col0,#T_b5beed14_dc77_11ed_bba3_b0227a895753row8_col0{\n",
       "            background-color:  #0e59a2;\n",
       "            color:  #f1f1f1;\n",
       "            text-align:  center;\n",
       "        }#T_b5beed14_dc77_11ed_bba3_b0227a895753row6_col4,#T_b5beed14_dc77_11ed_bba3_b0227a895753row7_col4,#T_b5beed14_dc77_11ed_bba3_b0227a895753row8_col4{\n",
       "            background-color:  #dceaf6;\n",
       "            color:  #000000;\n",
       "            text-align:  center;\n",
       "        }#T_b5beed14_dc77_11ed_bba3_b0227a895753row6_col5,#T_b5beed14_dc77_11ed_bba3_b0227a895753row7_col5,#T_b5beed14_dc77_11ed_bba3_b0227a895753row8_col5,#T_b5beed14_dc77_11ed_bba3_b0227a895753row9_col5,#T_b5beed14_dc77_11ed_bba3_b0227a895753row10_col5,#T_b5beed14_dc77_11ed_bba3_b0227a895753row11_col5{\n",
       "            background-color:  #3282be;\n",
       "            color:  #000000;\n",
       "            text-align:  center;\n",
       "        }#T_b5beed14_dc77_11ed_bba3_b0227a895753row6_col7,#T_b5beed14_dc77_11ed_bba3_b0227a895753row7_col7,#T_b5beed14_dc77_11ed_bba3_b0227a895753row8_col7{\n",
       "            background-color:  #c6dbef;\n",
       "            color:  #000000;\n",
       "            text-align:  center;\n",
       "        }#T_b5beed14_dc77_11ed_bba3_b0227a895753row6_col9,#T_b5beed14_dc77_11ed_bba3_b0227a895753row7_col9,#T_b5beed14_dc77_11ed_bba3_b0227a895753row8_col9{\n",
       "            background-color:  #74b3d8;\n",
       "            color:  #000000;\n",
       "            text-align:  center;\n",
       "        }#T_b5beed14_dc77_11ed_bba3_b0227a895753row9_col0,#T_b5beed14_dc77_11ed_bba3_b0227a895753row10_col0,#T_b5beed14_dc77_11ed_bba3_b0227a895753row11_col0{\n",
       "            background-color:  #1e6db2;\n",
       "            color:  #f1f1f1;\n",
       "            text-align:  center;\n",
       "        }#T_b5beed14_dc77_11ed_bba3_b0227a895753row9_col4,#T_b5beed14_dc77_11ed_bba3_b0227a895753row10_col4,#T_b5beed14_dc77_11ed_bba3_b0227a895753row11_col4,#T_b5beed14_dc77_11ed_bba3_b0227a895753row12_col4,#T_b5beed14_dc77_11ed_bba3_b0227a895753row13_col4,#T_b5beed14_dc77_11ed_bba3_b0227a895753row14_col4,#T_b5beed14_dc77_11ed_bba3_b0227a895753row15_col4,#T_b5beed14_dc77_11ed_bba3_b0227a895753row16_col4,#T_b5beed14_dc77_11ed_bba3_b0227a895753row17_col4{\n",
       "            background-color:  #d0e1f2;\n",
       "            color:  #000000;\n",
       "            text-align:  center;\n",
       "        }#T_b5beed14_dc77_11ed_bba3_b0227a895753row9_col7,#T_b5beed14_dc77_11ed_bba3_b0227a895753row10_col7,#T_b5beed14_dc77_11ed_bba3_b0227a895753row11_col7{\n",
       "            background-color:  #e3eef9;\n",
       "            color:  #000000;\n",
       "            text-align:  center;\n",
       "        }#T_b5beed14_dc77_11ed_bba3_b0227a895753row9_col9,#T_b5beed14_dc77_11ed_bba3_b0227a895753row10_col9,#T_b5beed14_dc77_11ed_bba3_b0227a895753row11_col9{\n",
       "            background-color:  #6aaed6;\n",
       "            color:  #000000;\n",
       "            text-align:  center;\n",
       "        }#T_b5beed14_dc77_11ed_bba3_b0227a895753row12_col0,#T_b5beed14_dc77_11ed_bba3_b0227a895753row13_col0,#T_b5beed14_dc77_11ed_bba3_b0227a895753row14_col0,#T_b5beed14_dc77_11ed_bba3_b0227a895753row15_col0,#T_b5beed14_dc77_11ed_bba3_b0227a895753row16_col0,#T_b5beed14_dc77_11ed_bba3_b0227a895753row17_col0{\n",
       "            background-color:  #5fa6d1;\n",
       "            color:  #000000;\n",
       "            text-align:  center;\n",
       "        }#T_b5beed14_dc77_11ed_bba3_b0227a895753row12_col5,#T_b5beed14_dc77_11ed_bba3_b0227a895753row16_col5,#T_b5beed14_dc77_11ed_bba3_b0227a895753row17_col5{\n",
       "            background-color:  #2979b9;\n",
       "            color:  #000000;\n",
       "            text-align:  center;\n",
       "        }#T_b5beed14_dc77_11ed_bba3_b0227a895753row12_col7,#T_b5beed14_dc77_11ed_bba3_b0227a895753row13_col7,#T_b5beed14_dc77_11ed_bba3_b0227a895753row14_col7,#T_b5beed14_dc77_11ed_bba3_b0227a895753row15_col7,#T_b5beed14_dc77_11ed_bba3_b0227a895753row16_col7,#T_b5beed14_dc77_11ed_bba3_b0227a895753row17_col7{\n",
       "            background-color:  #f3f8fe;\n",
       "            color:  #000000;\n",
       "            text-align:  center;\n",
       "        }#T_b5beed14_dc77_11ed_bba3_b0227a895753row12_col9,#T_b5beed14_dc77_11ed_bba3_b0227a895753row16_col9,#T_b5beed14_dc77_11ed_bba3_b0227a895753row17_col9{\n",
       "            background-color:  #64a9d3;\n",
       "            color:  #000000;\n",
       "            text-align:  center;\n",
       "        }#T_b5beed14_dc77_11ed_bba3_b0227a895753row18_col0,#T_b5beed14_dc77_11ed_bba3_b0227a895753row19_col0{\n",
       "            background-color:  #1966ad;\n",
       "            color:  #f1f1f1;\n",
       "            text-align:  center;\n",
       "        }#T_b5beed14_dc77_11ed_bba3_b0227a895753row18_col2,#T_b5beed14_dc77_11ed_bba3_b0227a895753row19_col2{\n",
       "            background-color:  #3787c0;\n",
       "            color:  #000000;\n",
       "            text-align:  center;\n",
       "        }#T_b5beed14_dc77_11ed_bba3_b0227a895753row18_col4,#T_b5beed14_dc77_11ed_bba3_b0227a895753row19_col4{\n",
       "            background-color:  #eaf2fb;\n",
       "            color:  #000000;\n",
       "            text-align:  center;\n",
       "        }#T_b5beed14_dc77_11ed_bba3_b0227a895753row18_col5,#T_b5beed14_dc77_11ed_bba3_b0227a895753row19_col5{\n",
       "            background-color:  #4d99ca;\n",
       "            color:  #000000;\n",
       "            text-align:  center;\n",
       "        }#T_b5beed14_dc77_11ed_bba3_b0227a895753row18_col9,#T_b5beed14_dc77_11ed_bba3_b0227a895753row19_col9{\n",
       "            background-color:  #9ac8e0;\n",
       "            color:  #000000;\n",
       "            text-align:  center;\n",
       "        }</style><table id=\"T_b5beed14_dc77_11ed_bba3_b0227a895753\" ><caption>Top Grossing Movies</caption><thead>    <tr>        <th class=\"col_heading level0 col0\" >index</th>        <th class=\"col_heading level0 col1\" >Title</th>        <th class=\"col_heading level0 col2\" >Start_Year</th>        <th class=\"col_heading level0 col3\" >Genres</th>        <th class=\"col_heading level0 col4\" >Averagerating</th>        <th class=\"col_heading level0 col5\" >Vote_Average</th>        <th class=\"col_heading level0 col6\" >Studio</th>        <th class=\"col_heading level0 col7\" >Gross_Income</th>        <th class=\"col_heading level0 col8\" >Genre</th>        <th class=\"col_heading level0 col9\" >Rating</th>    </tr></thead><tbody>\n",
       "                <tr>\n",
       "                                <td id=\"T_b5beed14_dc77_11ed_bba3_b0227a895753row0_col0\" class=\"data row0 col0\" >2878</td>\n",
       "                        <td id=\"T_b5beed14_dc77_11ed_bba3_b0227a895753row0_col1\" class=\"data row0 col1\" >Avengers: Infinity War</td>\n",
       "                        <td id=\"T_b5beed14_dc77_11ed_bba3_b0227a895753row0_col2\" class=\"data row0 col2\" >2018</td>\n",
       "                        <td id=\"T_b5beed14_dc77_11ed_bba3_b0227a895753row0_col3\" class=\"data row0 col3\" >Action,Adventure,Sci-Fi</td>\n",
       "                        <td id=\"T_b5beed14_dc77_11ed_bba3_b0227a895753row0_col4\" class=\"data row0 col4\" >8.500000</td>\n",
       "                        <td id=\"T_b5beed14_dc77_11ed_bba3_b0227a895753row0_col5\" class=\"data row0 col5\" >8.300000</td>\n",
       "                        <td id=\"T_b5beed14_dc77_11ed_bba3_b0227a895753row0_col6\" class=\"data row0 col6\" >BV</td>\n",
       "                        <td id=\"T_b5beed14_dc77_11ed_bba3_b0227a895753row0_col7\" class=\"data row0 col7\" >2052399557</td>\n",
       "                        <td id=\"T_b5beed14_dc77_11ed_bba3_b0227a895753row0_col8\" class=\"data row0 col8\" >Sci-Fi</td>\n",
       "                        <td id=\"T_b5beed14_dc77_11ed_bba3_b0227a895753row0_col9\" class=\"data row0 col9\" >8.400000</td>\n",
       "            </tr>\n",
       "            <tr>\n",
       "                                <td id=\"T_b5beed14_dc77_11ed_bba3_b0227a895753row1_col0\" class=\"data row1 col0\" >2878</td>\n",
       "                        <td id=\"T_b5beed14_dc77_11ed_bba3_b0227a895753row1_col1\" class=\"data row1 col1\" >Avengers: Infinity War</td>\n",
       "                        <td id=\"T_b5beed14_dc77_11ed_bba3_b0227a895753row1_col2\" class=\"data row1 col2\" >2018</td>\n",
       "                        <td id=\"T_b5beed14_dc77_11ed_bba3_b0227a895753row1_col3\" class=\"data row1 col3\" >Action,Adventure,Sci-Fi</td>\n",
       "                        <td id=\"T_b5beed14_dc77_11ed_bba3_b0227a895753row1_col4\" class=\"data row1 col4\" >8.500000</td>\n",
       "                        <td id=\"T_b5beed14_dc77_11ed_bba3_b0227a895753row1_col5\" class=\"data row1 col5\" >8.300000</td>\n",
       "                        <td id=\"T_b5beed14_dc77_11ed_bba3_b0227a895753row1_col6\" class=\"data row1 col6\" >BV</td>\n",
       "                        <td id=\"T_b5beed14_dc77_11ed_bba3_b0227a895753row1_col7\" class=\"data row1 col7\" >2052399557</td>\n",
       "                        <td id=\"T_b5beed14_dc77_11ed_bba3_b0227a895753row1_col8\" class=\"data row1 col8\" >Adventure</td>\n",
       "                        <td id=\"T_b5beed14_dc77_11ed_bba3_b0227a895753row1_col9\" class=\"data row1 col9\" >8.400000</td>\n",
       "            </tr>\n",
       "            <tr>\n",
       "                                <td id=\"T_b5beed14_dc77_11ed_bba3_b0227a895753row2_col0\" class=\"data row2 col0\" >2878</td>\n",
       "                        <td id=\"T_b5beed14_dc77_11ed_bba3_b0227a895753row2_col1\" class=\"data row2 col1\" >Avengers: Infinity War</td>\n",
       "                        <td id=\"T_b5beed14_dc77_11ed_bba3_b0227a895753row2_col2\" class=\"data row2 col2\" >2018</td>\n",
       "                        <td id=\"T_b5beed14_dc77_11ed_bba3_b0227a895753row2_col3\" class=\"data row2 col3\" >Action,Adventure,Sci-Fi</td>\n",
       "                        <td id=\"T_b5beed14_dc77_11ed_bba3_b0227a895753row2_col4\" class=\"data row2 col4\" >8.500000</td>\n",
       "                        <td id=\"T_b5beed14_dc77_11ed_bba3_b0227a895753row2_col5\" class=\"data row2 col5\" >8.300000</td>\n",
       "                        <td id=\"T_b5beed14_dc77_11ed_bba3_b0227a895753row2_col6\" class=\"data row2 col6\" >BV</td>\n",
       "                        <td id=\"T_b5beed14_dc77_11ed_bba3_b0227a895753row2_col7\" class=\"data row2 col7\" >2052399557</td>\n",
       "                        <td id=\"T_b5beed14_dc77_11ed_bba3_b0227a895753row2_col8\" class=\"data row2 col8\" >Action</td>\n",
       "                        <td id=\"T_b5beed14_dc77_11ed_bba3_b0227a895753row2_col9\" class=\"data row2 col9\" >8.400000</td>\n",
       "            </tr>\n",
       "            <tr>\n",
       "                                <td id=\"T_b5beed14_dc77_11ed_bba3_b0227a895753row3_col0\" class=\"data row3 col0\" >6</td>\n",
       "                        <td id=\"T_b5beed14_dc77_11ed_bba3_b0227a895753row3_col1\" class=\"data row3 col1\" >Jurassic World</td>\n",
       "                        <td id=\"T_b5beed14_dc77_11ed_bba3_b0227a895753row3_col2\" class=\"data row3 col2\" >2015</td>\n",
       "                        <td id=\"T_b5beed14_dc77_11ed_bba3_b0227a895753row3_col3\" class=\"data row3 col3\" >Action,Adventure,Sci-Fi</td>\n",
       "                        <td id=\"T_b5beed14_dc77_11ed_bba3_b0227a895753row3_col4\" class=\"data row3 col4\" >7.000000</td>\n",
       "                        <td id=\"T_b5beed14_dc77_11ed_bba3_b0227a895753row3_col5\" class=\"data row3 col5\" >6.600000</td>\n",
       "                        <td id=\"T_b5beed14_dc77_11ed_bba3_b0227a895753row3_col6\" class=\"data row3 col6\" >Uni.</td>\n",
       "                        <td id=\"T_b5beed14_dc77_11ed_bba3_b0227a895753row3_col7\" class=\"data row3 col7\" >1670430819</td>\n",
       "                        <td id=\"T_b5beed14_dc77_11ed_bba3_b0227a895753row3_col8\" class=\"data row3 col8\" >Action</td>\n",
       "                        <td id=\"T_b5beed14_dc77_11ed_bba3_b0227a895753row3_col9\" class=\"data row3 col9\" >6.800000</td>\n",
       "            </tr>\n",
       "            <tr>\n",
       "                                <td id=\"T_b5beed14_dc77_11ed_bba3_b0227a895753row4_col0\" class=\"data row4 col0\" >6</td>\n",
       "                        <td id=\"T_b5beed14_dc77_11ed_bba3_b0227a895753row4_col1\" class=\"data row4 col1\" >Jurassic World</td>\n",
       "                        <td id=\"T_b5beed14_dc77_11ed_bba3_b0227a895753row4_col2\" class=\"data row4 col2\" >2015</td>\n",
       "                        <td id=\"T_b5beed14_dc77_11ed_bba3_b0227a895753row4_col3\" class=\"data row4 col3\" >Action,Adventure,Sci-Fi</td>\n",
       "                        <td id=\"T_b5beed14_dc77_11ed_bba3_b0227a895753row4_col4\" class=\"data row4 col4\" >7.000000</td>\n",
       "                        <td id=\"T_b5beed14_dc77_11ed_bba3_b0227a895753row4_col5\" class=\"data row4 col5\" >6.600000</td>\n",
       "                        <td id=\"T_b5beed14_dc77_11ed_bba3_b0227a895753row4_col6\" class=\"data row4 col6\" >Uni.</td>\n",
       "                        <td id=\"T_b5beed14_dc77_11ed_bba3_b0227a895753row4_col7\" class=\"data row4 col7\" >1670430819</td>\n",
       "                        <td id=\"T_b5beed14_dc77_11ed_bba3_b0227a895753row4_col8\" class=\"data row4 col8\" >Sci-Fi</td>\n",
       "                        <td id=\"T_b5beed14_dc77_11ed_bba3_b0227a895753row4_col9\" class=\"data row4 col9\" >6.800000</td>\n",
       "            </tr>\n",
       "            <tr>\n",
       "                                <td id=\"T_b5beed14_dc77_11ed_bba3_b0227a895753row5_col0\" class=\"data row5 col0\" >6</td>\n",
       "                        <td id=\"T_b5beed14_dc77_11ed_bba3_b0227a895753row5_col1\" class=\"data row5 col1\" >Jurassic World</td>\n",
       "                        <td id=\"T_b5beed14_dc77_11ed_bba3_b0227a895753row5_col2\" class=\"data row5 col2\" >2015</td>\n",
       "                        <td id=\"T_b5beed14_dc77_11ed_bba3_b0227a895753row5_col3\" class=\"data row5 col3\" >Action,Adventure,Sci-Fi</td>\n",
       "                        <td id=\"T_b5beed14_dc77_11ed_bba3_b0227a895753row5_col4\" class=\"data row5 col4\" >7.000000</td>\n",
       "                        <td id=\"T_b5beed14_dc77_11ed_bba3_b0227a895753row5_col5\" class=\"data row5 col5\" >6.600000</td>\n",
       "                        <td id=\"T_b5beed14_dc77_11ed_bba3_b0227a895753row5_col6\" class=\"data row5 col6\" >Uni.</td>\n",
       "                        <td id=\"T_b5beed14_dc77_11ed_bba3_b0227a895753row5_col7\" class=\"data row5 col7\" >1670430819</td>\n",
       "                        <td id=\"T_b5beed14_dc77_11ed_bba3_b0227a895753row5_col8\" class=\"data row5 col8\" >Adventure</td>\n",
       "                        <td id=\"T_b5beed14_dc77_11ed_bba3_b0227a895753row5_col9\" class=\"data row5 col9\" >6.800000</td>\n",
       "            </tr>\n",
       "            <tr>\n",
       "                                <td id=\"T_b5beed14_dc77_11ed_bba3_b0227a895753row6_col0\" class=\"data row6 col0\" >2421</td>\n",
       "                        <td id=\"T_b5beed14_dc77_11ed_bba3_b0227a895753row6_col1\" class=\"data row6 col1\" >Furious 7</td>\n",
       "                        <td id=\"T_b5beed14_dc77_11ed_bba3_b0227a895753row6_col2\" class=\"data row6 col2\" >2015</td>\n",
       "                        <td id=\"T_b5beed14_dc77_11ed_bba3_b0227a895753row6_col3\" class=\"data row6 col3\" >Action,Crime,Thriller</td>\n",
       "                        <td id=\"T_b5beed14_dc77_11ed_bba3_b0227a895753row6_col4\" class=\"data row6 col4\" >7.200000</td>\n",
       "                        <td id=\"T_b5beed14_dc77_11ed_bba3_b0227a895753row6_col5\" class=\"data row6 col5\" >7.300000</td>\n",
       "                        <td id=\"T_b5beed14_dc77_11ed_bba3_b0227a895753row6_col6\" class=\"data row6 col6\" >Uni.</td>\n",
       "                        <td id=\"T_b5beed14_dc77_11ed_bba3_b0227a895753row6_col7\" class=\"data row6 col7\" >1515334379</td>\n",
       "                        <td id=\"T_b5beed14_dc77_11ed_bba3_b0227a895753row6_col8\" class=\"data row6 col8\" >Thriller</td>\n",
       "                        <td id=\"T_b5beed14_dc77_11ed_bba3_b0227a895753row6_col9\" class=\"data row6 col9\" >7.250000</td>\n",
       "            </tr>\n",
       "            <tr>\n",
       "                                <td id=\"T_b5beed14_dc77_11ed_bba3_b0227a895753row7_col0\" class=\"data row7 col0\" >2421</td>\n",
       "                        <td id=\"T_b5beed14_dc77_11ed_bba3_b0227a895753row7_col1\" class=\"data row7 col1\" >Furious 7</td>\n",
       "                        <td id=\"T_b5beed14_dc77_11ed_bba3_b0227a895753row7_col2\" class=\"data row7 col2\" >2015</td>\n",
       "                        <td id=\"T_b5beed14_dc77_11ed_bba3_b0227a895753row7_col3\" class=\"data row7 col3\" >Action,Crime,Thriller</td>\n",
       "                        <td id=\"T_b5beed14_dc77_11ed_bba3_b0227a895753row7_col4\" class=\"data row7 col4\" >7.200000</td>\n",
       "                        <td id=\"T_b5beed14_dc77_11ed_bba3_b0227a895753row7_col5\" class=\"data row7 col5\" >7.300000</td>\n",
       "                        <td id=\"T_b5beed14_dc77_11ed_bba3_b0227a895753row7_col6\" class=\"data row7 col6\" >Uni.</td>\n",
       "                        <td id=\"T_b5beed14_dc77_11ed_bba3_b0227a895753row7_col7\" class=\"data row7 col7\" >1515334379</td>\n",
       "                        <td id=\"T_b5beed14_dc77_11ed_bba3_b0227a895753row7_col8\" class=\"data row7 col8\" >Action</td>\n",
       "                        <td id=\"T_b5beed14_dc77_11ed_bba3_b0227a895753row7_col9\" class=\"data row7 col9\" >7.250000</td>\n",
       "            </tr>\n",
       "            <tr>\n",
       "                                <td id=\"T_b5beed14_dc77_11ed_bba3_b0227a895753row8_col0\" class=\"data row8 col0\" >2421</td>\n",
       "                        <td id=\"T_b5beed14_dc77_11ed_bba3_b0227a895753row8_col1\" class=\"data row8 col1\" >Furious 7</td>\n",
       "                        <td id=\"T_b5beed14_dc77_11ed_bba3_b0227a895753row8_col2\" class=\"data row8 col2\" >2015</td>\n",
       "                        <td id=\"T_b5beed14_dc77_11ed_bba3_b0227a895753row8_col3\" class=\"data row8 col3\" >Action,Crime,Thriller</td>\n",
       "                        <td id=\"T_b5beed14_dc77_11ed_bba3_b0227a895753row8_col4\" class=\"data row8 col4\" >7.200000</td>\n",
       "                        <td id=\"T_b5beed14_dc77_11ed_bba3_b0227a895753row8_col5\" class=\"data row8 col5\" >7.300000</td>\n",
       "                        <td id=\"T_b5beed14_dc77_11ed_bba3_b0227a895753row8_col6\" class=\"data row8 col6\" >Uni.</td>\n",
       "                        <td id=\"T_b5beed14_dc77_11ed_bba3_b0227a895753row8_col7\" class=\"data row8 col7\" >1515334379</td>\n",
       "                        <td id=\"T_b5beed14_dc77_11ed_bba3_b0227a895753row8_col8\" class=\"data row8 col8\" >Crime</td>\n",
       "                        <td id=\"T_b5beed14_dc77_11ed_bba3_b0227a895753row8_col9\" class=\"data row8 col9\" >7.250000</td>\n",
       "            </tr>\n",
       "            <tr>\n",
       "                                <td id=\"T_b5beed14_dc77_11ed_bba3_b0227a895753row9_col0\" class=\"data row9 col0\" >2198</td>\n",
       "                        <td id=\"T_b5beed14_dc77_11ed_bba3_b0227a895753row9_col1\" class=\"data row9 col1\" >Avengers: Age of Ultron</td>\n",
       "                        <td id=\"T_b5beed14_dc77_11ed_bba3_b0227a895753row9_col2\" class=\"data row9 col2\" >2015</td>\n",
       "                        <td id=\"T_b5beed14_dc77_11ed_bba3_b0227a895753row9_col3\" class=\"data row9 col3\" >Action,Adventure,Sci-Fi</td>\n",
       "                        <td id=\"T_b5beed14_dc77_11ed_bba3_b0227a895753row9_col4\" class=\"data row9 col4\" >7.300000</td>\n",
       "                        <td id=\"T_b5beed14_dc77_11ed_bba3_b0227a895753row9_col5\" class=\"data row9 col5\" >7.300000</td>\n",
       "                        <td id=\"T_b5beed14_dc77_11ed_bba3_b0227a895753row9_col6\" class=\"data row9 col6\" >BV</td>\n",
       "                        <td id=\"T_b5beed14_dc77_11ed_bba3_b0227a895753row9_col7\" class=\"data row9 col7\" >1405400000</td>\n",
       "                        <td id=\"T_b5beed14_dc77_11ed_bba3_b0227a895753row9_col8\" class=\"data row9 col8\" >Adventure</td>\n",
       "                        <td id=\"T_b5beed14_dc77_11ed_bba3_b0227a895753row9_col9\" class=\"data row9 col9\" >7.300000</td>\n",
       "            </tr>\n",
       "            <tr>\n",
       "                                <td id=\"T_b5beed14_dc77_11ed_bba3_b0227a895753row10_col0\" class=\"data row10 col0\" >2198</td>\n",
       "                        <td id=\"T_b5beed14_dc77_11ed_bba3_b0227a895753row10_col1\" class=\"data row10 col1\" >Avengers: Age of Ultron</td>\n",
       "                        <td id=\"T_b5beed14_dc77_11ed_bba3_b0227a895753row10_col2\" class=\"data row10 col2\" >2015</td>\n",
       "                        <td id=\"T_b5beed14_dc77_11ed_bba3_b0227a895753row10_col3\" class=\"data row10 col3\" >Action,Adventure,Sci-Fi</td>\n",
       "                        <td id=\"T_b5beed14_dc77_11ed_bba3_b0227a895753row10_col4\" class=\"data row10 col4\" >7.300000</td>\n",
       "                        <td id=\"T_b5beed14_dc77_11ed_bba3_b0227a895753row10_col5\" class=\"data row10 col5\" >7.300000</td>\n",
       "                        <td id=\"T_b5beed14_dc77_11ed_bba3_b0227a895753row10_col6\" class=\"data row10 col6\" >BV</td>\n",
       "                        <td id=\"T_b5beed14_dc77_11ed_bba3_b0227a895753row10_col7\" class=\"data row10 col7\" >1405400000</td>\n",
       "                        <td id=\"T_b5beed14_dc77_11ed_bba3_b0227a895753row10_col8\" class=\"data row10 col8\" >Action</td>\n",
       "                        <td id=\"T_b5beed14_dc77_11ed_bba3_b0227a895753row10_col9\" class=\"data row10 col9\" >7.300000</td>\n",
       "            </tr>\n",
       "            <tr>\n",
       "                                <td id=\"T_b5beed14_dc77_11ed_bba3_b0227a895753row11_col0\" class=\"data row11 col0\" >2198</td>\n",
       "                        <td id=\"T_b5beed14_dc77_11ed_bba3_b0227a895753row11_col1\" class=\"data row11 col1\" >Avengers: Age of Ultron</td>\n",
       "                        <td id=\"T_b5beed14_dc77_11ed_bba3_b0227a895753row11_col2\" class=\"data row11 col2\" >2015</td>\n",
       "                        <td id=\"T_b5beed14_dc77_11ed_bba3_b0227a895753row11_col3\" class=\"data row11 col3\" >Action,Adventure,Sci-Fi</td>\n",
       "                        <td id=\"T_b5beed14_dc77_11ed_bba3_b0227a895753row11_col4\" class=\"data row11 col4\" >7.300000</td>\n",
       "                        <td id=\"T_b5beed14_dc77_11ed_bba3_b0227a895753row11_col5\" class=\"data row11 col5\" >7.300000</td>\n",
       "                        <td id=\"T_b5beed14_dc77_11ed_bba3_b0227a895753row11_col6\" class=\"data row11 col6\" >BV</td>\n",
       "                        <td id=\"T_b5beed14_dc77_11ed_bba3_b0227a895753row11_col7\" class=\"data row11 col7\" >1405400000</td>\n",
       "                        <td id=\"T_b5beed14_dc77_11ed_bba3_b0227a895753row11_col8\" class=\"data row11 col8\" >Sci-Fi</td>\n",
       "                        <td id=\"T_b5beed14_dc77_11ed_bba3_b0227a895753row11_col9\" class=\"data row11 col9\" >7.300000</td>\n",
       "            </tr>\n",
       "            <tr>\n",
       "                                <td id=\"T_b5beed14_dc77_11ed_bba3_b0227a895753row12_col0\" class=\"data row12 col0\" >1546</td>\n",
       "                        <td id=\"T_b5beed14_dc77_11ed_bba3_b0227a895753row12_col1\" class=\"data row12 col1\" >Black Panther</td>\n",
       "                        <td id=\"T_b5beed14_dc77_11ed_bba3_b0227a895753row12_col2\" class=\"data row12 col2\" >2018</td>\n",
       "                        <td id=\"T_b5beed14_dc77_11ed_bba3_b0227a895753row12_col3\" class=\"data row12 col3\" >Action,Adventure,Sci-Fi</td>\n",
       "                        <td id=\"T_b5beed14_dc77_11ed_bba3_b0227a895753row12_col4\" class=\"data row12 col4\" >7.300000</td>\n",
       "                        <td id=\"T_b5beed14_dc77_11ed_bba3_b0227a895753row12_col5\" class=\"data row12 col5\" >7.400000</td>\n",
       "                        <td id=\"T_b5beed14_dc77_11ed_bba3_b0227a895753row12_col6\" class=\"data row12 col6\" >BV</td>\n",
       "                        <td id=\"T_b5beed14_dc77_11ed_bba3_b0227a895753row12_col7\" class=\"data row12 col7\" >1347000000</td>\n",
       "                        <td id=\"T_b5beed14_dc77_11ed_bba3_b0227a895753row12_col8\" class=\"data row12 col8\" >Sci-Fi</td>\n",
       "                        <td id=\"T_b5beed14_dc77_11ed_bba3_b0227a895753row12_col9\" class=\"data row12 col9\" >7.350000</td>\n",
       "            </tr>\n",
       "            <tr>\n",
       "                                <td id=\"T_b5beed14_dc77_11ed_bba3_b0227a895753row13_col0\" class=\"data row13 col0\" >1545</td>\n",
       "                        <td id=\"T_b5beed14_dc77_11ed_bba3_b0227a895753row13_col1\" class=\"data row13 col1\" >Black Panther</td>\n",
       "                        <td id=\"T_b5beed14_dc77_11ed_bba3_b0227a895753row13_col2\" class=\"data row13 col2\" >2018</td>\n",
       "                        <td id=\"T_b5beed14_dc77_11ed_bba3_b0227a895753row13_col3\" class=\"data row13 col3\" >Action,Adventure,Sci-Fi</td>\n",
       "                        <td id=\"T_b5beed14_dc77_11ed_bba3_b0227a895753row13_col4\" class=\"data row13 col4\" >7.300000</td>\n",
       "                        <td id=\"T_b5beed14_dc77_11ed_bba3_b0227a895753row13_col5\" class=\"data row13 col5\" >5.100000</td>\n",
       "                        <td id=\"T_b5beed14_dc77_11ed_bba3_b0227a895753row13_col6\" class=\"data row13 col6\" >BV</td>\n",
       "                        <td id=\"T_b5beed14_dc77_11ed_bba3_b0227a895753row13_col7\" class=\"data row13 col7\" >1347000000</td>\n",
       "                        <td id=\"T_b5beed14_dc77_11ed_bba3_b0227a895753row13_col8\" class=\"data row13 col8\" >Action</td>\n",
       "                        <td id=\"T_b5beed14_dc77_11ed_bba3_b0227a895753row13_col9\" class=\"data row13 col9\" >6.200000</td>\n",
       "            </tr>\n",
       "            <tr>\n",
       "                                <td id=\"T_b5beed14_dc77_11ed_bba3_b0227a895753row14_col0\" class=\"data row14 col0\" >1545</td>\n",
       "                        <td id=\"T_b5beed14_dc77_11ed_bba3_b0227a895753row14_col1\" class=\"data row14 col1\" >Black Panther</td>\n",
       "                        <td id=\"T_b5beed14_dc77_11ed_bba3_b0227a895753row14_col2\" class=\"data row14 col2\" >2018</td>\n",
       "                        <td id=\"T_b5beed14_dc77_11ed_bba3_b0227a895753row14_col3\" class=\"data row14 col3\" >Action,Adventure,Sci-Fi</td>\n",
       "                        <td id=\"T_b5beed14_dc77_11ed_bba3_b0227a895753row14_col4\" class=\"data row14 col4\" >7.300000</td>\n",
       "                        <td id=\"T_b5beed14_dc77_11ed_bba3_b0227a895753row14_col5\" class=\"data row14 col5\" >5.100000</td>\n",
       "                        <td id=\"T_b5beed14_dc77_11ed_bba3_b0227a895753row14_col6\" class=\"data row14 col6\" >BV</td>\n",
       "                        <td id=\"T_b5beed14_dc77_11ed_bba3_b0227a895753row14_col7\" class=\"data row14 col7\" >1347000000</td>\n",
       "                        <td id=\"T_b5beed14_dc77_11ed_bba3_b0227a895753row14_col8\" class=\"data row14 col8\" >Adventure</td>\n",
       "                        <td id=\"T_b5beed14_dc77_11ed_bba3_b0227a895753row14_col9\" class=\"data row14 col9\" >6.200000</td>\n",
       "            </tr>\n",
       "            <tr>\n",
       "                                <td id=\"T_b5beed14_dc77_11ed_bba3_b0227a895753row15_col0\" class=\"data row15 col0\" >1545</td>\n",
       "                        <td id=\"T_b5beed14_dc77_11ed_bba3_b0227a895753row15_col1\" class=\"data row15 col1\" >Black Panther</td>\n",
       "                        <td id=\"T_b5beed14_dc77_11ed_bba3_b0227a895753row15_col2\" class=\"data row15 col2\" >2018</td>\n",
       "                        <td id=\"T_b5beed14_dc77_11ed_bba3_b0227a895753row15_col3\" class=\"data row15 col3\" >Action,Adventure,Sci-Fi</td>\n",
       "                        <td id=\"T_b5beed14_dc77_11ed_bba3_b0227a895753row15_col4\" class=\"data row15 col4\" >7.300000</td>\n",
       "                        <td id=\"T_b5beed14_dc77_11ed_bba3_b0227a895753row15_col5\" class=\"data row15 col5\" >5.100000</td>\n",
       "                        <td id=\"T_b5beed14_dc77_11ed_bba3_b0227a895753row15_col6\" class=\"data row15 col6\" >BV</td>\n",
       "                        <td id=\"T_b5beed14_dc77_11ed_bba3_b0227a895753row15_col7\" class=\"data row15 col7\" >1347000000</td>\n",
       "                        <td id=\"T_b5beed14_dc77_11ed_bba3_b0227a895753row15_col8\" class=\"data row15 col8\" >Sci-Fi</td>\n",
       "                        <td id=\"T_b5beed14_dc77_11ed_bba3_b0227a895753row15_col9\" class=\"data row15 col9\" >6.200000</td>\n",
       "            </tr>\n",
       "            <tr>\n",
       "                                <td id=\"T_b5beed14_dc77_11ed_bba3_b0227a895753row16_col0\" class=\"data row16 col0\" >1546</td>\n",
       "                        <td id=\"T_b5beed14_dc77_11ed_bba3_b0227a895753row16_col1\" class=\"data row16 col1\" >Black Panther</td>\n",
       "                        <td id=\"T_b5beed14_dc77_11ed_bba3_b0227a895753row16_col2\" class=\"data row16 col2\" >2018</td>\n",
       "                        <td id=\"T_b5beed14_dc77_11ed_bba3_b0227a895753row16_col3\" class=\"data row16 col3\" >Action,Adventure,Sci-Fi</td>\n",
       "                        <td id=\"T_b5beed14_dc77_11ed_bba3_b0227a895753row16_col4\" class=\"data row16 col4\" >7.300000</td>\n",
       "                        <td id=\"T_b5beed14_dc77_11ed_bba3_b0227a895753row16_col5\" class=\"data row16 col5\" >7.400000</td>\n",
       "                        <td id=\"T_b5beed14_dc77_11ed_bba3_b0227a895753row16_col6\" class=\"data row16 col6\" >BV</td>\n",
       "                        <td id=\"T_b5beed14_dc77_11ed_bba3_b0227a895753row16_col7\" class=\"data row16 col7\" >1347000000</td>\n",
       "                        <td id=\"T_b5beed14_dc77_11ed_bba3_b0227a895753row16_col8\" class=\"data row16 col8\" >Action</td>\n",
       "                        <td id=\"T_b5beed14_dc77_11ed_bba3_b0227a895753row16_col9\" class=\"data row16 col9\" >7.350000</td>\n",
       "            </tr>\n",
       "            <tr>\n",
       "                                <td id=\"T_b5beed14_dc77_11ed_bba3_b0227a895753row17_col0\" class=\"data row17 col0\" >1546</td>\n",
       "                        <td id=\"T_b5beed14_dc77_11ed_bba3_b0227a895753row17_col1\" class=\"data row17 col1\" >Black Panther</td>\n",
       "                        <td id=\"T_b5beed14_dc77_11ed_bba3_b0227a895753row17_col2\" class=\"data row17 col2\" >2018</td>\n",
       "                        <td id=\"T_b5beed14_dc77_11ed_bba3_b0227a895753row17_col3\" class=\"data row17 col3\" >Action,Adventure,Sci-Fi</td>\n",
       "                        <td id=\"T_b5beed14_dc77_11ed_bba3_b0227a895753row17_col4\" class=\"data row17 col4\" >7.300000</td>\n",
       "                        <td id=\"T_b5beed14_dc77_11ed_bba3_b0227a895753row17_col5\" class=\"data row17 col5\" >7.400000</td>\n",
       "                        <td id=\"T_b5beed14_dc77_11ed_bba3_b0227a895753row17_col6\" class=\"data row17 col6\" >BV</td>\n",
       "                        <td id=\"T_b5beed14_dc77_11ed_bba3_b0227a895753row17_col7\" class=\"data row17 col7\" >1347000000</td>\n",
       "                        <td id=\"T_b5beed14_dc77_11ed_bba3_b0227a895753row17_col8\" class=\"data row17 col8\" >Adventure</td>\n",
       "                        <td id=\"T_b5beed14_dc77_11ed_bba3_b0227a895753row17_col9\" class=\"data row17 col9\" >7.350000</td>\n",
       "            </tr>\n",
       "            <tr>\n",
       "                                <td id=\"T_b5beed14_dc77_11ed_bba3_b0227a895753row18_col0\" class=\"data row18 col0\" >2280</td>\n",
       "                        <td id=\"T_b5beed14_dc77_11ed_bba3_b0227a895753row18_col1\" class=\"data row18 col1\" >Star Wars: The Last Jedi</td>\n",
       "                        <td id=\"T_b5beed14_dc77_11ed_bba3_b0227a895753row18_col2\" class=\"data row18 col2\" >2017</td>\n",
       "                        <td id=\"T_b5beed14_dc77_11ed_bba3_b0227a895753row18_col3\" class=\"data row18 col3\" >Action,Adventure,Fantasy</td>\n",
       "                        <td id=\"T_b5beed14_dc77_11ed_bba3_b0227a895753row18_col4\" class=\"data row18 col4\" >7.100000</td>\n",
       "                        <td id=\"T_b5beed14_dc77_11ed_bba3_b0227a895753row18_col5\" class=\"data row18 col5\" >7.000000</td>\n",
       "                        <td id=\"T_b5beed14_dc77_11ed_bba3_b0227a895753row18_col6\" class=\"data row18 col6\" >BV</td>\n",
       "                        <td id=\"T_b5beed14_dc77_11ed_bba3_b0227a895753row18_col7\" class=\"data row18 col7\" >1332600000</td>\n",
       "                        <td id=\"T_b5beed14_dc77_11ed_bba3_b0227a895753row18_col8\" class=\"data row18 col8\" >Action</td>\n",
       "                        <td id=\"T_b5beed14_dc77_11ed_bba3_b0227a895753row18_col9\" class=\"data row18 col9\" >7.050000</td>\n",
       "            </tr>\n",
       "            <tr>\n",
       "                                <td id=\"T_b5beed14_dc77_11ed_bba3_b0227a895753row19_col0\" class=\"data row19 col0\" >2281</td>\n",
       "                        <td id=\"T_b5beed14_dc77_11ed_bba3_b0227a895753row19_col1\" class=\"data row19 col1\" >Star Wars: The Last Jedi</td>\n",
       "                        <td id=\"T_b5beed14_dc77_11ed_bba3_b0227a895753row19_col2\" class=\"data row19 col2\" >2017</td>\n",
       "                        <td id=\"T_b5beed14_dc77_11ed_bba3_b0227a895753row19_col3\" class=\"data row19 col3\" >Action,Adventure,Fantasy</td>\n",
       "                        <td id=\"T_b5beed14_dc77_11ed_bba3_b0227a895753row19_col4\" class=\"data row19 col4\" >7.100000</td>\n",
       "                        <td id=\"T_b5beed14_dc77_11ed_bba3_b0227a895753row19_col5\" class=\"data row19 col5\" >7.000000</td>\n",
       "                        <td id=\"T_b5beed14_dc77_11ed_bba3_b0227a895753row19_col6\" class=\"data row19 col6\" >BV</td>\n",
       "                        <td id=\"T_b5beed14_dc77_11ed_bba3_b0227a895753row19_col7\" class=\"data row19 col7\" >1332600000</td>\n",
       "                        <td id=\"T_b5beed14_dc77_11ed_bba3_b0227a895753row19_col8\" class=\"data row19 col8\" >Action</td>\n",
       "                        <td id=\"T_b5beed14_dc77_11ed_bba3_b0227a895753row19_col9\" class=\"data row19 col9\" >7.050000</td>\n",
       "            </tr>\n",
       "    </tbody></table>"
      ],
      "text/plain": [
       "<pandas.io.formats.style.Styler at 0x1d958460c70>"
      ]
     },
     "execution_count": 61,
     "metadata": {},
     "output_type": "execute_result"
    }
   ],
   "source": [
    "movie_table = top_grossing_movies.style \\\n",
    "    .background_gradient(cmap='Blues') \\\n",
    "    .highlight_max(color='grey') \\\n",
    "    .set_properties(**{'text-align': 'center'}) \\\n",
    "    .set_caption('Top Grossing Movies') \\\n",
    "    .hide_index()\n",
    "\n",
    "movie_table"
   ]
  },
  {
   "cell_type": "markdown",
   "metadata": {},
   "source": [
    "### 2. Genres "
   ]
  },
  {
   "cell_type": "markdown",
   "metadata": {},
   "source": [
    "#### Grossing by Genre"
   ]
  },
  {
   "cell_type": "code",
   "execution_count": 49,
   "metadata": {
    "scrolled": true
   },
   "outputs": [
    {
     "name": "stdout",
     "output_type": "stream",
     "text": [
      "22\n",
      "['Action' 'Crime' 'Drama' 'Adventure' 'Romance' 'Comedy' 'Sci-Fi' 'Family'\n",
      " 'Animation' 'Thriller' 'Mystery' 'Biography' 'History' 'Horror'\n",
      " 'Documentary' 'News' 'Fantasy' 'Sport' 'Music' 'War' 'Western' 'Musical']\n"
     ]
    }
   ],
   "source": [
    "genres = movies[\"Genre\"].unique()\n",
    "print(len(genres))\n",
    "print(genres)"
   ]
  },
  {
   "cell_type": "code",
   "execution_count": 50,
   "metadata": {
    "scrolled": false
   },
   "outputs": [
    {
     "name": "stdout",
     "output_type": "stream",
     "text": [
      "           Gross_Income\n",
      "Genre                  \n",
      "Adventure  143670938466\n",
      "Action     127283946877\n",
      "Comedy      88691389688\n",
      "Drama       87810409077\n",
      "Sci-Fi      47043902975\n",
      "Animation   46947384893\n",
      "Thriller    44937123006\n",
      "Fantasy     33911124099\n",
      "Crime       26657144911\n",
      "Horror      21079949700\n"
     ]
    }
   ],
   "source": [
    "genres_gross = movies.groupby(\"Genre\").sum()\n",
    "\n",
    "genres_gross = genres_gross.sort_values(\"Gross_Income\", ascending=False)\n",
    "\n",
    "# top 10 genres by total gross income\n",
    "print(genres_gross[[\"Gross_Income\"]].head(10))"
   ]
  },
  {
   "cell_type": "markdown",
   "metadata": {},
   "source": [
    "#### Plot the graph"
   ]
  },
  {
   "cell_type": "code",
   "execution_count": 51,
   "metadata": {},
   "outputs": [
    {
     "data": {
      "image/png": "[encoded data removed]",
      "text/plain": [
       "<Figure size 432x288 with 1 Axes>"
      ]
     },
     "metadata": {
      "needs_background": "light"
     },
     "output_type": "display_data"
    }
   ],
   "source": [
    "genres_gross.head(10).plot(kind='bar')\n",
    "plt.xlabel('Total Gross Income (Billion USD)')\n",
    "plt.ylabel('Genre')\n",
    "plt.title('Total Gross Income by Genre')\n",
    "\n",
    "plt.legend()\n",
    "plt.show()"
   ]
  },
  {
   "cell_type": "markdown",
   "metadata": {},
   "source": [
    "There are 22 different genres represented in this dataset.\n",
    "The higest grossing genre is Adventure, followed by Action and Comedy.\n",
    "This information is important as it will highlight the most profitable genres in the industry."
   ]
  },
  {
   "cell_type": "markdown",
   "metadata": {},
   "source": [
    "#### How many movies per genre?"
   ]
  },
  {
   "cell_type": "code",
   "execution_count": 52,
   "metadata": {
    "scrolled": true
   },
   "outputs": [
    {
     "data": {
      "text/plain": [
       "Genre\n",
       "Drama          1937\n",
       "Comedy          958\n",
       "Action          661\n",
       "Thriller        539\n",
       "Adventure       491\n",
       "Romance         481\n",
       "Crime           433\n",
       "Biography       329\n",
       "Horror          315\n",
       "Mystery         243\n",
       "Documentary     231\n",
       "Fantasy         194\n",
       "Sci-Fi          160\n",
       "Animation       158\n",
       "History         149\n",
       "Family          124\n",
       "Music           103\n",
       "Sport            65\n",
       "War              46\n",
       "Western          22\n",
       "Musical          15\n",
       "News              4\n",
       "dtype: int64"
      ]
     },
     "execution_count": 52,
     "metadata": {},
     "output_type": "execute_result"
    }
   ],
   "source": [
    "movies_per_genre = movies.groupby(\"Genre\").size()\n",
    "movies_per_genre.sort_values(ascending=False)"
   ]
  },
  {
   "cell_type": "markdown",
   "metadata": {},
   "source": [
    "Most movies are in the Drama genre while the News genre has the least number of movies.\n",
    "As such, Microsoft may concentrate on more Drama, Comedy, Action, Thriller and Adventure video content for a start as they explore the option of adding the rest for variety."
   ]
  },
  {
   "cell_type": "markdown",
   "metadata": {},
   "source": [
    "#### Genres with the highest ratings"
   ]
  },
  {
   "cell_type": "code",
   "execution_count": 53,
   "metadata": {},
   "outputs": [
    {
     "data": {
      "text/plain": [
       "6.90    209\n",
       "6.35    200\n",
       "6.85    190\n",
       "6.10    180\n",
       "6.65    180\n",
       "       ... \n",
       "3.70      1\n",
       "3.85      1\n",
       "7.65      1\n",
       "2.95      1\n",
       "9.00      1\n",
       "Name: Rating, Length: 156, dtype: int64"
      ]
     },
     "execution_count": 53,
     "metadata": {},
     "output_type": "execute_result"
    }
   ],
   "source": [
    "movies[\"Rating\"].value_counts()"
   ]
  },
  {
   "cell_type": "markdown",
   "metadata": {},
   "source": [
    "#### Count movies with a rating above 5"
   ]
  },
  {
   "cell_type": "code",
   "execution_count": 54,
   "metadata": {
    "scrolled": true
   },
   "outputs": [
    {
     "data": {
      "text/html": [
       "<div>\n",
       "<style scoped>\n",
       "    .dataframe tbody tr th:only-of-type {\n",
       "        vertical-align: middle;\n",
       "    }\n",
       "\n",
       "    .dataframe tbody tr th {\n",
       "        vertical-align: top;\n",
       "    }\n",
       "\n",
       "    .dataframe thead th {\n",
       "        text-align: right;\n",
       "    }\n",
       "</style>\n",
       "<table border=\"1\" class=\"dataframe\">\n",
       "  <thead>\n",
       "    <tr style=\"text-align: right;\">\n",
       "      <th></th>\n",
       "      <th>count</th>\n",
       "      <th>mean</th>\n",
       "    </tr>\n",
       "    <tr>\n",
       "      <th>Genre</th>\n",
       "      <th></th>\n",
       "      <th></th>\n",
       "    </tr>\n",
       "  </thead>\n",
       "  <tbody>\n",
       "    <tr>\n",
       "      <th>Documentary</th>\n",
       "      <td>231</td>\n",
       "      <td>7.031602</td>\n",
       "    </tr>\n",
       "    <tr>\n",
       "      <th>Biography</th>\n",
       "      <td>329</td>\n",
       "      <td>6.886474</td>\n",
       "    </tr>\n",
       "    <tr>\n",
       "      <th>War</th>\n",
       "      <td>46</td>\n",
       "      <td>6.805435</td>\n",
       "    </tr>\n",
       "    <tr>\n",
       "      <th>History</th>\n",
       "      <td>149</td>\n",
       "      <td>6.801678</td>\n",
       "    </tr>\n",
       "    <tr>\n",
       "      <th>Animation</th>\n",
       "      <td>158</td>\n",
       "      <td>6.731646</td>\n",
       "    </tr>\n",
       "    <tr>\n",
       "      <th>Music</th>\n",
       "      <td>103</td>\n",
       "      <td>6.673301</td>\n",
       "    </tr>\n",
       "    <tr>\n",
       "      <th>Sport</th>\n",
       "      <td>65</td>\n",
       "      <td>6.536923</td>\n",
       "    </tr>\n",
       "    <tr>\n",
       "      <th>Western</th>\n",
       "      <td>22</td>\n",
       "      <td>6.531818</td>\n",
       "    </tr>\n",
       "    <tr>\n",
       "      <th>Drama</th>\n",
       "      <td>1937</td>\n",
       "      <td>6.524574</td>\n",
       "    </tr>\n",
       "    <tr>\n",
       "      <th>Adventure</th>\n",
       "      <td>491</td>\n",
       "      <td>6.439308</td>\n",
       "    </tr>\n",
       "    <tr>\n",
       "      <th>Crime</th>\n",
       "      <td>433</td>\n",
       "      <td>6.410508</td>\n",
       "    </tr>\n",
       "    <tr>\n",
       "      <th>Sci-Fi</th>\n",
       "      <td>160</td>\n",
       "      <td>6.383750</td>\n",
       "    </tr>\n",
       "    <tr>\n",
       "      <th>Romance</th>\n",
       "      <td>481</td>\n",
       "      <td>6.366008</td>\n",
       "    </tr>\n",
       "    <tr>\n",
       "      <th>Family</th>\n",
       "      <td>124</td>\n",
       "      <td>6.310887</td>\n",
       "    </tr>\n",
       "    <tr>\n",
       "      <th>Musical</th>\n",
       "      <td>15</td>\n",
       "      <td>6.310000</td>\n",
       "    </tr>\n",
       "    <tr>\n",
       "      <th>Mystery</th>\n",
       "      <td>243</td>\n",
       "      <td>6.265638</td>\n",
       "    </tr>\n",
       "    <tr>\n",
       "      <th>Comedy</th>\n",
       "      <td>958</td>\n",
       "      <td>6.254958</td>\n",
       "    </tr>\n",
       "    <tr>\n",
       "      <th>Action</th>\n",
       "      <td>661</td>\n",
       "      <td>6.245840</td>\n",
       "    </tr>\n",
       "    <tr>\n",
       "      <th>Fantasy</th>\n",
       "      <td>194</td>\n",
       "      <td>6.236598</td>\n",
       "    </tr>\n",
       "    <tr>\n",
       "      <th>Thriller</th>\n",
       "      <td>539</td>\n",
       "      <td>6.110390</td>\n",
       "    </tr>\n",
       "    <tr>\n",
       "      <th>Horror</th>\n",
       "      <td>315</td>\n",
       "      <td>5.763492</td>\n",
       "    </tr>\n",
       "  </tbody>\n",
       "</table>\n",
       "</div>"
      ],
      "text/plain": [
       "             count      mean\n",
       "Genre                       \n",
       "Documentary    231  7.031602\n",
       "Biography      329  6.886474\n",
       "War             46  6.805435\n",
       "History        149  6.801678\n",
       "Animation      158  6.731646\n",
       "Music          103  6.673301\n",
       "Sport           65  6.536923\n",
       "Western         22  6.531818\n",
       "Drama         1937  6.524574\n",
       "Adventure      491  6.439308\n",
       "Crime          433  6.410508\n",
       "Sci-Fi         160  6.383750\n",
       "Romance        481  6.366008\n",
       "Family         124  6.310887\n",
       "Musical         15  6.310000\n",
       "Mystery        243  6.265638\n",
       "Comedy         958  6.254958\n",
       "Action         661  6.245840\n",
       "Fantasy        194  6.236598\n",
       "Thriller       539  6.110390\n",
       "Horror         315  5.763492"
      ]
     },
     "execution_count": 54,
     "metadata": {},
     "output_type": "execute_result"
    }
   ],
   "source": [
    "rating = movies.groupby(\"Genre\").Rating.agg([\"count\",\"mean\"]).sort_values(\n",
    "    'mean', ascending = False)\n",
    "rating[rating[\"count\"]>=5]"
   ]
  },
  {
   "cell_type": "markdown",
   "metadata": {},
   "source": [
    "#### Visualizing the data"
   ]
  },
  {
   "cell_type": "code",
   "execution_count": 55,
   "metadata": {
    "scrolled": false
   },
   "outputs": [
    {
     "data": {
      "image/png": "[encoded data removed]",
      "text/plain": [
       "<Figure size 432x288 with 1 Axes>"
      ]
     },
     "metadata": {
      "needs_background": "light"
     },
     "output_type": "display_data"
    }
   ],
   "source": [
    "ax = rating['mean'].head(10).plot(kind='bar', color='grey', width=0.6)\n",
    "\n",
    "\n",
    "plt.title(\"Movies by Genre with Rating >5\")\n",
    "plt.xlabel(\"Genre\")\n",
    "plt.ylabel(\"Mean Rating\")\n",
    "\n",
    "\n",
    "# customizing the bar width and color\n",
    "ax.patch.set_facecolor('white')\n",
    "\n",
    "\n",
    "plt.show()"
   ]
  },
  {
   "cell_type": "markdown",
   "metadata": {},
   "source": [
    "### 3. Studio Income"
   ]
  },
  {
   "cell_type": "markdown",
   "metadata": {},
   "source": [
    "#### Getting the studio information and returning gross earnings per studio"
   ]
  },
  {
   "cell_type": "code",
   "execution_count": 56,
   "metadata": {},
   "outputs": [
    {
     "name": "stdout",
     "output_type": "stream",
     "text": [
      "        Gross_Income\n",
      "Studio              \n",
      "BV      169852320670\n",
      "Uni.    117146994792\n",
      "Fox      96791511789\n",
      "WB       82858930996\n",
      "Sony     59531904493\n"
     ]
    }
   ],
   "source": [
    "# gross_per_studio = total gross_income for each studio\n",
    "\n",
    "gross_per_studio = movies.groupby([\"Studio\"]).sum()\n",
    "\n",
    "gross_per_studio = gross_per_studio.sort_values(\"Gross_Income\", ascending=False)\n",
    "\n",
    "# top 5 studios by total gross income\n",
    "print(gross_per_studio[[\"Gross_Income\"]].head())"
   ]
  },
  {
   "cell_type": "code",
   "execution_count": 57,
   "metadata": {},
   "outputs": [
    {
     "data": {
      "text/html": [
       "<div>\n",
       "<style scoped>\n",
       "    .dataframe tbody tr th:only-of-type {\n",
       "        vertical-align: middle;\n",
       "    }\n",
       "\n",
       "    .dataframe tbody tr th {\n",
       "        vertical-align: top;\n",
       "    }\n",
       "\n",
       "    .dataframe thead th {\n",
       "        text-align: right;\n",
       "    }\n",
       "</style>\n",
       "<table border=\"1\" class=\"dataframe\">\n",
       "  <thead>\n",
       "    <tr style=\"text-align: right;\">\n",
       "      <th></th>\n",
       "      <th>Studio</th>\n",
       "      <th>Start_Year</th>\n",
       "      <th>Averagerating</th>\n",
       "      <th>Vote_Average</th>\n",
       "      <th>Gross_Income</th>\n",
       "      <th>Rating</th>\n",
       "    </tr>\n",
       "  </thead>\n",
       "  <tbody>\n",
       "    <tr>\n",
       "      <th>0</th>\n",
       "      <td>BV</td>\n",
       "      <td>630366</td>\n",
       "      <td>2190.9</td>\n",
       "      <td>2126.3</td>\n",
       "      <td>169852320670</td>\n",
       "      <td>2158.60</td>\n",
       "    </tr>\n",
       "    <tr>\n",
       "      <th>1</th>\n",
       "      <td>Uni.</td>\n",
       "      <td>1091697</td>\n",
       "      <td>3328.9</td>\n",
       "      <td>3316.9</td>\n",
       "      <td>117146994792</td>\n",
       "      <td>3322.90</td>\n",
       "    </tr>\n",
       "    <tr>\n",
       "      <th>2</th>\n",
       "      <td>Fox</td>\n",
       "      <td>805626</td>\n",
       "      <td>2577.8</td>\n",
       "      <td>2530.9</td>\n",
       "      <td>96791511789</td>\n",
       "      <td>2554.35</td>\n",
       "    </tr>\n",
       "    <tr>\n",
       "      <th>3</th>\n",
       "      <td>WB</td>\n",
       "      <td>729070</td>\n",
       "      <td>2388.0</td>\n",
       "      <td>2351.5</td>\n",
       "      <td>82858930996</td>\n",
       "      <td>2369.75</td>\n",
       "    </tr>\n",
       "    <tr>\n",
       "      <th>4</th>\n",
       "      <td>Sony</td>\n",
       "      <td>485345</td>\n",
       "      <td>1494.4</td>\n",
       "      <td>1468.7</td>\n",
       "      <td>59531904493</td>\n",
       "      <td>1481.55</td>\n",
       "    </tr>\n",
       "    <tr>\n",
       "      <th>...</th>\n",
       "      <td>...</td>\n",
       "      <td>...</td>\n",
       "      <td>...</td>\n",
       "      <td>...</td>\n",
       "      <td>...</td>\n",
       "      <td>...</td>\n",
       "    </tr>\n",
       "    <tr>\n",
       "      <th>184</th>\n",
       "      <td>ICir</td>\n",
       "      <td>2011</td>\n",
       "      <td>7.5</td>\n",
       "      <td>6.6</td>\n",
       "      <td>29300</td>\n",
       "      <td>7.05</td>\n",
       "    </tr>\n",
       "    <tr>\n",
       "      <th>185</th>\n",
       "      <td>ALP</td>\n",
       "      <td>12078</td>\n",
       "      <td>40.5</td>\n",
       "      <td>36.6</td>\n",
       "      <td>16800</td>\n",
       "      <td>38.55</td>\n",
       "    </tr>\n",
       "    <tr>\n",
       "      <th>186</th>\n",
       "      <td>TAFC</td>\n",
       "      <td>6042</td>\n",
       "      <td>19.5</td>\n",
       "      <td>20.4</td>\n",
       "      <td>13800</td>\n",
       "      <td>19.95</td>\n",
       "    </tr>\n",
       "    <tr>\n",
       "      <th>187</th>\n",
       "      <td>KS</td>\n",
       "      <td>4026</td>\n",
       "      <td>13.2</td>\n",
       "      <td>14.2</td>\n",
       "      <td>11800</td>\n",
       "      <td>13.70</td>\n",
       "    </tr>\n",
       "    <tr>\n",
       "      <th>188</th>\n",
       "      <td>EpicPics</td>\n",
       "      <td>2015</td>\n",
       "      <td>4.7</td>\n",
       "      <td>4.5</td>\n",
       "      <td>11300</td>\n",
       "      <td>4.60</td>\n",
       "    </tr>\n",
       "  </tbody>\n",
       "</table>\n",
       "<p>189 rows × 6 columns</p>\n",
       "</div>"
      ],
      "text/plain": [
       "       Studio  Start_Year  Averagerating  Vote_Average  Gross_Income   Rating\n",
       "0          BV      630366         2190.9        2126.3  169852320670  2158.60\n",
       "1        Uni.     1091697         3328.9        3316.9  117146994792  3322.90\n",
       "2         Fox      805626         2577.8        2530.9   96791511789  2554.35\n",
       "3          WB      729070         2388.0        2351.5   82858930996  2369.75\n",
       "4        Sony      485345         1494.4        1468.7   59531904493  1481.55\n",
       "..        ...         ...            ...           ...           ...      ...\n",
       "184      ICir        2011            7.5           6.6         29300     7.05\n",
       "185       ALP       12078           40.5          36.6         16800    38.55\n",
       "186      TAFC        6042           19.5          20.4         13800    19.95\n",
       "187        KS        4026           13.2          14.2         11800    13.70\n",
       "188  EpicPics        2015            4.7           4.5         11300     4.60\n",
       "\n",
       "[189 rows x 6 columns]"
      ]
     },
     "execution_count": 57,
     "metadata": {},
     "output_type": "execute_result"
    }
   ],
   "source": [
    "gross_per_studio = gross_per_studio.reset_index()\n",
    "gross_per_studio"
   ]
  },
  {
   "cell_type": "code",
   "execution_count": 58,
   "metadata": {},
   "outputs": [
    {
     "name": "stdout",
     "output_type": "stream",
     "text": [
      "  Studio  Gross_Income\n",
      "0     BV  169852320670\n",
      "1   Uni.  117146994792\n",
      "2    Fox   96791511789\n",
      "3     WB   82858930996\n",
      "4   Sony   59531904493\n"
     ]
    }
   ],
   "source": [
    "print(gross_per_studio[[\"Studio\", \"Gross_Income\"]].head())"
   ]
  },
  {
   "cell_type": "markdown",
   "metadata": {},
   "source": [
    "#### Plotting the bar chart to show the top 5 studios"
   ]
  },
  {
   "cell_type": "code",
   "execution_count": 59,
   "metadata": {},
   "outputs": [
    {
     "data": {
      "image/png": "[encoded data removed]",
      "text/plain": [
       "<Figure size 720x432 with 1 Axes>"
      ]
     },
     "metadata": {
      "needs_background": "light"
     },
     "output_type": "display_data"
    }
   ],
   "source": [
    "gross_per_studio.head().plot(kind=\"bar\", x=\"Studio\", y=\"Gross_Income\", \n",
    "                      figsize=(10,6), legend=None, color=\"blue\")\n",
    "\n",
    "# set the labels and title of the plot\n",
    "plt.xlabel(\"Studio\")\n",
    "plt.ylabel(\"Gross Income\")\n",
    "plt.title('Top 5 Studios by Gross Earnings')\n",
    "\n",
    "# show the plot\n",
    "plt.show()"
   ]
  },
  {
   "cell_type": "markdown",
   "metadata": {},
   "source": [
    "The information showing income by studio will guide Microsoft on studios to engage/emulate. In this case, BV, Uni, Fox, WB and Sony seem to be doing well. The studio names in full are:\n",
    "1. BV - Buena Vista\n",
    "2. Uni - Universal Pictures\n",
    "3. Fox - Fox Studios\n",
    "4. WB - Warner Brothers\n",
    "5. Sony - Sony Pictures"
   ]
  },
  {
   "cell_type": "markdown",
   "metadata": {},
   "source": [
    "# Evaluation"
   ]
  },
  {
   "cell_type": "markdown",
   "metadata": {},
   "source": [
    "Below are the highlights from this analysis\n",
    "- **1. The top grossing movie is an Action, Adventure and Sci-fi movie.**\n",
    "    - This is a pointer that movies in these genres are likely to do well in the industry.\n",
    "    \n",
    "- **2. The genres with the highest grossing are Adventure, Action and Comedy.**\n",
    "    - It may be good business to build a foundation with these genres in the content creation business.\n",
    "    \n",
    "- **3. Most movies produced were in the Drama, Comedy and Action genres.**\n",
    "    - There are three decision-guiders: \n",
    "        a. That the genres are cheaper and faster to produce\n",
    "        b. That there higher returns on investment from these genres\n",
    "        c. There is more demand for these genres than most other genres.\n",
    "        \n",
    "- **4. Documentaries, Biography and War movies had the highest ratings on average.** It may mean one of two things - the fans are more responsive and/or the production quality standards are high.\n",
    "\n",
    "- **5. Buena Vista, Universal Pictures and Fox Studios grossed the highest income of all the studios represented in the datasets.** \n",
    "    - Engaging the skillsets in these studios is important to ensure quality production.\n",
    "    - Emulating the culture of the studios in the content creation business will be good practice for the business."
   ]
  },
  {
   "cell_type": "markdown",
   "metadata": {},
   "source": [
    "# Conclusion and Recommendations"
   ]
  },
  {
   "cell_type": "markdown",
   "metadata": {},
   "source": [
    "- There is need to conduct further analysis using **more recent data (2018 to date)** to provide updated information.\n",
    "- In the setting up of the studio, Microsoft may also look into **modern-day content** such as social media content, live streaming, 3-D and 4-D, etc. This will place them on a better playing ground with more established studios."
   ]
  }
 ],
 "metadata": {
  "kernelspec": {
   "display_name": "Python 3",
   "language": "python",
   "name": "python3"
  },
  "language_info": {
   "codemirror_mode": {
    "name": "ipython",
    "version": 3
   },
   "file_extension": ".py",
   "mimetype": "text/x-python",
   "name": "python",
   "nbconvert_exporter": "python",
   "pygments_lexer": "ipython3",
   "version": "3.8.5"
  }
 },
 "nbformat": 4,
 "nbformat_minor": 4
}
